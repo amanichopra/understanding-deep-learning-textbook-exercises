{
  "nbformat": 4,
  "nbformat_minor": 0,
  "metadata": {
    "colab": {
      "provenance": [],
      "include_colab_link": true
    },
    "kernelspec": {
      "name": "python3",
      "display_name": "Python 3"
    },
    "language_info": {
      "name": "python"
    }
  },
  "cells": [
    {
      "cell_type": "markdown",
      "metadata": {
        "id": "view-in-github",
        "colab_type": "text"
      },
      "source": [
        "<a href=\"https://colab.research.google.com/github/amanichopra/understanding-deep-learning-textbook-exercises/blob/main/10_2_Convolution_for_MNIST_1D.ipynb\" target=\"_parent\"><img src=\"https://colab.research.google.com/assets/colab-badge.svg\" alt=\"Open In Colab\"/></a>"
      ]
    },
    {
      "cell_type": "markdown",
      "source": [
        "# **Notebook 10.2: Convolution for MNIST-1D**\n",
        "\n",
        "This notebook investigates a 1D convolutional network for MNIST-1D as in figure 10.7 and 10.8a.\n",
        "\n",
        "Work through the cells below, running each cell in turn. In various places you will see the words \"TODO\". Follow the instructions at these places and make predictions about what is going to happen or write code to complete the functions.\n",
        "\n",
        "Contact me at udlbookmail@gmail.com if you find any mistakes or have any suggestions.\n",
        "\n"
      ],
      "metadata": {
        "id": "t9vk9Elugvmi"
      }
    },
    {
      "cell_type": "code",
      "source": [
        "# Run this if you're in a Colab to install MNIST 1D repository\n",
        "!pip install git+https://github.com/greydanus/mnist1d"
      ],
      "metadata": {
        "id": "D5yLObtZCi9J",
        "colab": {
          "base_uri": "https://localhost:8080/"
        },
        "outputId": "45b3d2bf-f473-498f-ed92-d2ada6095d6d"
      },
      "execution_count": 1,
      "outputs": [
        {
          "output_type": "stream",
          "name": "stdout",
          "text": [
            "Collecting git+https://github.com/greydanus/mnist1d\n",
            "  Cloning https://github.com/greydanus/mnist1d to /tmp/pip-req-build-jjzrfxsq\n",
            "  Running command git clone --filter=blob:none --quiet https://github.com/greydanus/mnist1d /tmp/pip-req-build-jjzrfxsq\n",
            "  Resolved https://github.com/greydanus/mnist1d to commit 7878d96082abd200c546a07a4101fa90b30fdf7e\n",
            "  Installing build dependencies ... \u001b[?25l\u001b[?25hdone\n",
            "  Getting requirements to build wheel ... \u001b[?25l\u001b[?25hdone\n",
            "  Preparing metadata (pyproject.toml) ... \u001b[?25l\u001b[?25hdone\n",
            "Requirement already satisfied: requests in /usr/local/lib/python3.12/dist-packages (from mnist1d==0.0.2.post16) (2.32.4)\n",
            "Requirement already satisfied: numpy in /usr/local/lib/python3.12/dist-packages (from mnist1d==0.0.2.post16) (2.0.2)\n",
            "Requirement already satisfied: matplotlib in /usr/local/lib/python3.12/dist-packages (from mnist1d==0.0.2.post16) (3.10.0)\n",
            "Requirement already satisfied: scipy in /usr/local/lib/python3.12/dist-packages (from mnist1d==0.0.2.post16) (1.16.1)\n",
            "Requirement already satisfied: contourpy>=1.0.1 in /usr/local/lib/python3.12/dist-packages (from matplotlib->mnist1d==0.0.2.post16) (1.3.3)\n",
            "Requirement already satisfied: cycler>=0.10 in /usr/local/lib/python3.12/dist-packages (from matplotlib->mnist1d==0.0.2.post16) (0.12.1)\n",
            "Requirement already satisfied: fonttools>=4.22.0 in /usr/local/lib/python3.12/dist-packages (from matplotlib->mnist1d==0.0.2.post16) (4.59.2)\n",
            "Requirement already satisfied: kiwisolver>=1.3.1 in /usr/local/lib/python3.12/dist-packages (from matplotlib->mnist1d==0.0.2.post16) (1.4.9)\n",
            "Requirement already satisfied: packaging>=20.0 in /usr/local/lib/python3.12/dist-packages (from matplotlib->mnist1d==0.0.2.post16) (25.0)\n",
            "Requirement already satisfied: pillow>=8 in /usr/local/lib/python3.12/dist-packages (from matplotlib->mnist1d==0.0.2.post16) (11.3.0)\n",
            "Requirement already satisfied: pyparsing>=2.3.1 in /usr/local/lib/python3.12/dist-packages (from matplotlib->mnist1d==0.0.2.post16) (3.2.3)\n",
            "Requirement already satisfied: python-dateutil>=2.7 in /usr/local/lib/python3.12/dist-packages (from matplotlib->mnist1d==0.0.2.post16) (2.9.0.post0)\n",
            "Requirement already satisfied: charset_normalizer<4,>=2 in /usr/local/lib/python3.12/dist-packages (from requests->mnist1d==0.0.2.post16) (3.4.3)\n",
            "Requirement already satisfied: idna<4,>=2.5 in /usr/local/lib/python3.12/dist-packages (from requests->mnist1d==0.0.2.post16) (3.10)\n",
            "Requirement already satisfied: urllib3<3,>=1.21.1 in /usr/local/lib/python3.12/dist-packages (from requests->mnist1d==0.0.2.post16) (2.5.0)\n",
            "Requirement already satisfied: certifi>=2017.4.17 in /usr/local/lib/python3.12/dist-packages (from requests->mnist1d==0.0.2.post16) (2025.8.3)\n",
            "Requirement already satisfied: six>=1.5 in /usr/local/lib/python3.12/dist-packages (from python-dateutil>=2.7->matplotlib->mnist1d==0.0.2.post16) (1.17.0)\n",
            "Building wheels for collected packages: mnist1d\n",
            "  Building wheel for mnist1d (pyproject.toml) ... \u001b[?25l\u001b[?25hdone\n",
            "  Created wheel for mnist1d: filename=mnist1d-0.0.2.post16-py3-none-any.whl size=14665 sha256=bb0bfc5addc87151c65b372a9f51f92f3c682b40f1f04884bdccc4af99317bcc\n",
            "  Stored in directory: /tmp/pip-ephem-wheel-cache-pzhixw46/wheels/18/40/b6/29381fee9b4c80fdbc304d52bb065a7286bbcca5ca2b8737c0\n",
            "Successfully built mnist1d\n",
            "Installing collected packages: mnist1d\n",
            "Successfully installed mnist1d-0.0.2.post16\n"
          ]
        }
      ]
    },
    {
      "cell_type": "code",
      "source": [
        "import numpy as np\n",
        "import os\n",
        "import torch, torch.nn as nn\n",
        "from torch.utils.data import TensorDataset, DataLoader\n",
        "from torch.optim.lr_scheduler import StepLR\n",
        "import matplotlib.pyplot as plt\n",
        "import mnist1d\n",
        "import random"
      ],
      "metadata": {
        "id": "YrXWAH7sUWvU"
      },
      "execution_count": 2,
      "outputs": []
    },
    {
      "cell_type": "code",
      "source": [
        "args = mnist1d.data.get_dataset_args()\n",
        "data = mnist1d.data.get_dataset(args, path='./mnist1d_data.pkl', download=False, regenerate=False)\n",
        "\n",
        "# The training and test input and outputs are in\n",
        "# data['x'], data['y'], data['x_test'], and data['y_test']\n",
        "print(\"Examples in training set: {}\".format(len(data['y'])))\n",
        "print(\"Examples in test set: {}\".format(len(data['y_test'])))\n",
        "print(\"Length of each example: {}\".format(data['x'].shape[-1]))"
      ],
      "metadata": {
        "id": "twI72ZCrCt5z",
        "colab": {
          "base_uri": "https://localhost:8080/"
        },
        "outputId": "d4a7d875-5bb3-4a62-ae88-ecfdc660453f"
      },
      "execution_count": 3,
      "outputs": [
        {
          "output_type": "stream",
          "name": "stdout",
          "text": [
            "Did or could not load data from ./mnist1d_data.pkl. Rebuilding dataset...\n",
            "Examples in training set: 4000\n",
            "Examples in test set: 1000\n",
            "Length of each example: 40\n"
          ]
        }
      ]
    },
    {
      "cell_type": "code",
      "source": [
        "# Load in the data\n",
        "train_data_x = data['x'].transpose()\n",
        "train_data_y = data['y']\n",
        "val_data_x = data['x_test'].transpose()\n",
        "val_data_y = data['y_test']\n",
        "# Print out sizes\n",
        "print(\"Train data: %d examples (columns), each of which has %d dimensions (rows)\"%((train_data_x.shape[1],train_data_x.shape[0])))\n",
        "print(\"Validation data: %d examples (columns), each of which has %d dimensions (rows)\"%((val_data_x.shape[1],val_data_x.shape[0])))"
      ],
      "metadata": {
        "id": "8bKADvLHbiV5",
        "colab": {
          "base_uri": "https://localhost:8080/"
        },
        "outputId": "17f2c7c8-26ac-420e-aebc-5febe6f24afc"
      },
      "execution_count": 4,
      "outputs": [
        {
          "output_type": "stream",
          "name": "stdout",
          "text": [
            "Train data: 4000 examples (columns), each of which has 40 dimensions (rows)\n",
            "Validation data: 1000 examples (columns), each of which has 40 dimensions (rows)\n"
          ]
        }
      ]
    },
    {
      "cell_type": "markdown",
      "source": [
        "Define the network"
      ],
      "metadata": {
        "id": "_sFvRDGrl4qe"
      }
    },
    {
      "cell_type": "code",
      "source": [
        "# There are 40 input dimensions and 10 output dimensions for this data\n",
        "# The inputs correspond to the 40 offsets in the MNIST1D template.\n",
        "D_i = 40\n",
        "# The outputs correspond to the 10 digits\n",
        "D_o = 10\n",
        "\n",
        "\n",
        "# TODO Create a model with the following layers\n",
        "# 1. Convolutional layer, (input=length 40 and 1 channel, kernel size 3, stride 2, padding=\"valid\", 15 output channels )\n",
        "# 2. ReLU\n",
        "# 3. Convolutional layer, (input=length 19 and 15 channels, kernel size 3, stride 2, padding=\"valid\", 15 output channels )\n",
        "# 4. ReLU\n",
        "# 5. Convolutional layer, (input=length 9 and 15 channels, kernel size 3, stride 2, padding=\"valid\", 15 output channels)\n",
        "# 6. ReLU\n",
        "# 7. Flatten (converts 4x15) to length 60\n",
        "# 8. Linear layer (input size = 60, output size = 10)\n",
        "# References:\n",
        "# https://pytorch.org/docs/1.13/generated/torch.nn.Conv1d.html?highlight=conv1d#torch.nn.Conv1d\n",
        "# https://pytorch.org/docs/stable/generated/torch.nn.Flatten.html\n",
        "# https://pytorch.org/docs/1.13/generated/torch.nn.Linear.html?highlight=linear#torch.nn.Linear\n",
        "\n",
        "# NOTE THAT THE CONVOLUTIONAL LAYERS NEED TO TAKE THE NUMBER OF INPUT CHANNELS AS A PARAMETER\n",
        "# AND NOT THE INPUT SIZE.\n",
        "\n",
        "# Replace the following function:\n",
        "model = nn.Sequential(\n",
        "    nn.Conv1d(in_channels=1, out_channels=15, kernel_size=3, stride=2, padding=\"valid\"),\n",
        "    nn.ReLU(),\n",
        "    nn.Conv1d(in_channels=15, out_channels=15, kernel_size=3, stride=2, padding=\"valid\"),\n",
        "    nn.ReLU(),\n",
        "    nn.Conv1d(in_channels=15, out_channels=15, kernel_size=3, stride=2, padding=\"valid\"),\n",
        "    nn.ReLU(),\n",
        "    nn.Flatten(),\n",
        "    nn.Linear(60, 10))\n",
        "\n",
        "\n",
        "\n"
      ],
      "metadata": {
        "id": "FslroPJJffrh"
      },
      "execution_count": 6,
      "outputs": []
    },
    {
      "cell_type": "code",
      "source": [
        "# He initialization of weights\n",
        "def weights_init(layer_in):\n",
        "  if isinstance(layer_in, nn.Linear):\n",
        "    nn.init.kaiming_uniform_(layer_in.weight)\n",
        "    layer_in.bias.data.fill_(0.0)"
      ],
      "metadata": {
        "id": "YgLaex1pfhqz"
      },
      "execution_count": 7,
      "outputs": []
    },
    {
      "cell_type": "code",
      "source": [
        "# choose cross entropy loss function (equation 5.24 in the loss notes)\n",
        "loss_function = nn.CrossEntropyLoss()\n",
        "# construct SGD optimizer and initialize learning rate and momentum\n",
        "optimizer = torch.optim.SGD(model.parameters(), lr = 0.05, momentum=0.9)\n",
        "# object that decreases learning rate by half every 20 epochs\n",
        "scheduler = StepLR(optimizer, step_size=20, gamma=0.5)\n",
        "# create 100 dummy data points and store in data loader class\n",
        "x_train = torch.tensor(train_data_x.transpose().astype('float32'))\n",
        "y_train = torch.tensor(train_data_y.astype('long')).long()\n",
        "x_val= torch.tensor(val_data_x.transpose().astype('float32'))\n",
        "y_val = torch.tensor(val_data_y.astype('long')).long()\n",
        "\n",
        "# load the data into a class that creates the batches\n",
        "data_loader = DataLoader(TensorDataset(x_train,y_train), batch_size=100, shuffle=True, worker_init_fn=np.random.seed(1))\n",
        "\n",
        "# Initialize model weights\n",
        "model.apply(weights_init)\n",
        "\n",
        "# loop over the dataset n_epoch times\n",
        "n_epoch = 100\n",
        "# store the loss and the % correct at each epoch\n",
        "losses_train = np.zeros((n_epoch))\n",
        "errors_train = np.zeros((n_epoch))\n",
        "losses_val = np.zeros((n_epoch))\n",
        "errors_val = np.zeros((n_epoch))\n",
        "\n",
        "for epoch in range(n_epoch):\n",
        "  # loop over batches\n",
        "  for i, data in enumerate(data_loader):\n",
        "    # retrieve inputs and labels for this batch\n",
        "    x_batch, y_batch = data\n",
        "    # zero the parameter gradients\n",
        "    optimizer.zero_grad()\n",
        "    # forward pass -- calculate model output\n",
        "    pred = model(x_batch[:,None,:])\n",
        "    # compute the loss\n",
        "    loss = loss_function(pred, y_batch)\n",
        "    # backward pass\n",
        "    loss.backward()\n",
        "    # SGD update\n",
        "    optimizer.step()\n",
        "\n",
        "  # Run whole dataset to get statistics -- normally wouldn't do this\n",
        "  pred_train = model(x_train[:,None,:])\n",
        "  pred_val = model(x_val[:,None,:])\n",
        "  _, predicted_train_class = torch.max(pred_train.data, 1)\n",
        "  _, predicted_val_class = torch.max(pred_val.data, 1)\n",
        "  errors_train[epoch] = 100 - 100 * (predicted_train_class == y_train).float().sum() / len(y_train)\n",
        "  errors_val[epoch]= 100 - 100 * (predicted_val_class == y_val).float().sum() / len(y_val)\n",
        "  losses_train[epoch] = loss_function(pred_train, y_train).item()\n",
        "  losses_val[epoch]= loss_function(pred_val, y_val).item()\n",
        "  print(f'Epoch {epoch:5d}, train loss {losses_train[epoch]:.6f}, train error {errors_train[epoch]:3.2f},  val loss {losses_val[epoch]:.6f}, percent error {errors_val[epoch]:3.2f}')\n",
        "\n",
        "  # tell scheduler to consider updating learning rate\n",
        "  scheduler.step()\n",
        "\n",
        "# Plot the results\n",
        "fig, ax = plt.subplots()\n",
        "ax.plot(errors_train,'r-',label='train')\n",
        "ax.plot(errors_val,'b-',label='validation')\n",
        "ax.set_ylim(0,100); ax.set_xlim(0,n_epoch)\n",
        "ax.set_xlabel('Epoch'); ax.set_ylabel('Error')\n",
        "ax.set_title('Part I: Validation Result %3.2f'%(errors_val[-1]))\n",
        "ax.legend()\n",
        "plt.show()"
      ],
      "metadata": {
        "id": "NYw8I_3mmX5c",
        "colab": {
          "base_uri": "https://localhost:8080/",
          "height": 1000
        },
        "outputId": "030d22cd-94af-4572-a4cc-0bf3de776e44"
      },
      "execution_count": 8,
      "outputs": [
        {
          "output_type": "stream",
          "name": "stdout",
          "text": [
            "Epoch     0, train loss 1.813157, train error 71.78,  val loss 1.822857, percent error 73.60\n",
            "Epoch     1, train loss 1.500896, train error 60.22,  val loss 1.524274, percent error 61.90\n",
            "Epoch     2, train loss 1.317759, train error 54.60,  val loss 1.349333, percent error 58.90\n",
            "Epoch     3, train loss 1.254422, train error 51.25,  val loss 1.262723, percent error 51.20\n",
            "Epoch     4, train loss 1.168979, train error 48.03,  val loss 1.215206, percent error 49.30\n",
            "Epoch     5, train loss 1.176734, train error 50.50,  val loss 1.220204, percent error 53.60\n",
            "Epoch     6, train loss 0.960631, train error 38.53,  val loss 0.991680, percent error 41.30\n",
            "Epoch     7, train loss 0.932806, train error 36.47,  val loss 0.979457, percent error 39.40\n",
            "Epoch     8, train loss 0.794372, train error 30.32,  val loss 0.859695, percent error 35.10\n",
            "Epoch     9, train loss 0.711497, train error 27.62,  val loss 0.756758, percent error 29.80\n",
            "Epoch    10, train loss 0.600015, train error 22.07,  val loss 0.687634, percent error 27.00\n",
            "Epoch    11, train loss 0.517452, train error 19.60,  val loss 0.608913, percent error 24.50\n",
            "Epoch    12, train loss 0.471794, train error 18.40,  val loss 0.591550, percent error 21.90\n",
            "Epoch    13, train loss 0.492584, train error 18.78,  val loss 0.616961, percent error 23.00\n",
            "Epoch    14, train loss 0.415040, train error 16.00,  val loss 0.561110, percent error 21.90\n",
            "Epoch    15, train loss 0.349971, train error 12.65,  val loss 0.469372, percent error 16.10\n",
            "Epoch    16, train loss 0.294699, train error 10.25,  val loss 0.436628, percent error 14.70\n",
            "Epoch    17, train loss 0.346010, train error 12.78,  val loss 0.522403, percent error 18.80\n",
            "Epoch    18, train loss 0.271703, train error 9.47,  val loss 0.443599, percent error 14.20\n",
            "Epoch    19, train loss 0.265182, train error 9.12,  val loss 0.391308, percent error 13.20\n",
            "Epoch    20, train loss 0.173771, train error 5.62,  val loss 0.354251, percent error 11.40\n",
            "Epoch    21, train loss 0.148864, train error 4.85,  val loss 0.314384, percent error 10.40\n",
            "Epoch    22, train loss 0.160551, train error 5.43,  val loss 0.346622, percent error 11.10\n",
            "Epoch    23, train loss 0.144216, train error 5.15,  val loss 0.346714, percent error 11.70\n",
            "Epoch    24, train loss 0.124535, train error 4.57,  val loss 0.314616, percent error 10.50\n",
            "Epoch    25, train loss 0.121216, train error 4.15,  val loss 0.313914, percent error 10.60\n",
            "Epoch    26, train loss 0.125393, train error 4.40,  val loss 0.339969, percent error 10.50\n",
            "Epoch    27, train loss 0.123941, train error 4.40,  val loss 0.329220, percent error 9.80\n",
            "Epoch    28, train loss 0.135214, train error 4.70,  val loss 0.367575, percent error 11.10\n",
            "Epoch    29, train loss 0.101730, train error 3.55,  val loss 0.326024, percent error 10.70\n",
            "Epoch    30, train loss 0.115110, train error 3.85,  val loss 0.350656, percent error 11.10\n",
            "Epoch    31, train loss 0.097982, train error 3.28,  val loss 0.336243, percent error 11.00\n",
            "Epoch    32, train loss 0.084993, train error 2.55,  val loss 0.303749, percent error 9.90\n",
            "Epoch    33, train loss 0.102312, train error 3.53,  val loss 0.349886, percent error 11.50\n",
            "Epoch    34, train loss 0.074531, train error 2.47,  val loss 0.308096, percent error 9.80\n",
            "Epoch    35, train loss 0.081317, train error 2.55,  val loss 0.292185, percent error 8.90\n",
            "Epoch    36, train loss 0.077027, train error 2.47,  val loss 0.308362, percent error 10.30\n",
            "Epoch    37, train loss 0.066000, train error 2.00,  val loss 0.322062, percent error 9.80\n",
            "Epoch    38, train loss 0.068191, train error 1.95,  val loss 0.338631, percent error 9.20\n",
            "Epoch    39, train loss 0.067452, train error 2.05,  val loss 0.340889, percent error 9.80\n",
            "Epoch    40, train loss 0.052233, train error 1.30,  val loss 0.310235, percent error 9.30\n",
            "Epoch    41, train loss 0.048707, train error 1.15,  val loss 0.315852, percent error 9.60\n",
            "Epoch    42, train loss 0.049702, train error 1.30,  val loss 0.317761, percent error 9.90\n",
            "Epoch    43, train loss 0.049361, train error 1.28,  val loss 0.324655, percent error 9.80\n",
            "Epoch    44, train loss 0.045396, train error 1.15,  val loss 0.313548, percent error 9.20\n",
            "Epoch    45, train loss 0.044832, train error 1.07,  val loss 0.337222, percent error 9.90\n",
            "Epoch    46, train loss 0.043654, train error 0.95,  val loss 0.322195, percent error 9.40\n",
            "Epoch    47, train loss 0.043061, train error 1.00,  val loss 0.326658, percent error 9.30\n",
            "Epoch    48, train loss 0.042744, train error 0.95,  val loss 0.322112, percent error 9.70\n",
            "Epoch    49, train loss 0.043224, train error 1.03,  val loss 0.343854, percent error 9.60\n",
            "Epoch    50, train loss 0.039975, train error 0.75,  val loss 0.339824, percent error 10.00\n",
            "Epoch    51, train loss 0.038656, train error 0.78,  val loss 0.339983, percent error 9.90\n",
            "Epoch    52, train loss 0.036906, train error 0.72,  val loss 0.336791, percent error 9.60\n",
            "Epoch    53, train loss 0.037134, train error 0.57,  val loss 0.343932, percent error 9.80\n",
            "Epoch    54, train loss 0.037871, train error 0.75,  val loss 0.348822, percent error 9.10\n",
            "Epoch    55, train loss 0.036948, train error 0.60,  val loss 0.340027, percent error 9.00\n",
            "Epoch    56, train loss 0.036587, train error 0.78,  val loss 0.352149, percent error 9.40\n",
            "Epoch    57, train loss 0.035148, train error 0.70,  val loss 0.360043, percent error 9.80\n",
            "Epoch    58, train loss 0.033763, train error 0.65,  val loss 0.347352, percent error 9.60\n",
            "Epoch    59, train loss 0.032180, train error 0.50,  val loss 0.343706, percent error 9.20\n",
            "Epoch    60, train loss 0.031086, train error 0.68,  val loss 0.349217, percent error 9.90\n",
            "Epoch    61, train loss 0.029913, train error 0.53,  val loss 0.356340, percent error 10.00\n",
            "Epoch    62, train loss 0.029590, train error 0.45,  val loss 0.356621, percent error 9.50\n",
            "Epoch    63, train loss 0.028713, train error 0.50,  val loss 0.354573, percent error 9.90\n",
            "Epoch    64, train loss 0.029345, train error 0.47,  val loss 0.360119, percent error 9.40\n",
            "Epoch    65, train loss 0.028014, train error 0.45,  val loss 0.359666, percent error 10.10\n",
            "Epoch    66, train loss 0.028068, train error 0.40,  val loss 0.358882, percent error 10.00\n",
            "Epoch    67, train loss 0.027749, train error 0.47,  val loss 0.361035, percent error 9.60\n",
            "Epoch    68, train loss 0.027565, train error 0.35,  val loss 0.355220, percent error 9.50\n",
            "Epoch    69, train loss 0.027151, train error 0.40,  val loss 0.361025, percent error 9.60\n",
            "Epoch    70, train loss 0.026856, train error 0.38,  val loss 0.361170, percent error 9.80\n",
            "Epoch    71, train loss 0.026403, train error 0.35,  val loss 0.360170, percent error 9.80\n",
            "Epoch    72, train loss 0.026648, train error 0.35,  val loss 0.361255, percent error 9.90\n",
            "Epoch    73, train loss 0.026294, train error 0.35,  val loss 0.366594, percent error 9.80\n",
            "Epoch    74, train loss 0.025852, train error 0.38,  val loss 0.369270, percent error 9.90\n",
            "Epoch    75, train loss 0.025567, train error 0.32,  val loss 0.365666, percent error 9.80\n",
            "Epoch    76, train loss 0.024706, train error 0.30,  val loss 0.364489, percent error 9.90\n",
            "Epoch    77, train loss 0.025539, train error 0.38,  val loss 0.368722, percent error 9.70\n",
            "Epoch    78, train loss 0.024609, train error 0.30,  val loss 0.363891, percent error 9.80\n",
            "Epoch    79, train loss 0.025260, train error 0.38,  val loss 0.373504, percent error 10.40\n",
            "Epoch    80, train loss 0.023471, train error 0.28,  val loss 0.371621, percent error 10.00\n",
            "Epoch    81, train loss 0.023659, train error 0.32,  val loss 0.371454, percent error 9.90\n",
            "Epoch    82, train loss 0.023257, train error 0.32,  val loss 0.370635, percent error 10.00\n",
            "Epoch    83, train loss 0.023071, train error 0.28,  val loss 0.369310, percent error 10.00\n",
            "Epoch    84, train loss 0.022920, train error 0.28,  val loss 0.372699, percent error 10.30\n",
            "Epoch    85, train loss 0.022910, train error 0.30,  val loss 0.373717, percent error 10.10\n",
            "Epoch    86, train loss 0.022680, train error 0.25,  val loss 0.372514, percent error 10.10\n",
            "Epoch    87, train loss 0.022719, train error 0.32,  val loss 0.374129, percent error 10.30\n",
            "Epoch    88, train loss 0.022476, train error 0.30,  val loss 0.375688, percent error 9.80\n",
            "Epoch    89, train loss 0.022343, train error 0.28,  val loss 0.374288, percent error 9.80\n",
            "Epoch    90, train loss 0.022318, train error 0.25,  val loss 0.374237, percent error 10.00\n",
            "Epoch    91, train loss 0.021988, train error 0.28,  val loss 0.373997, percent error 10.10\n",
            "Epoch    92, train loss 0.022030, train error 0.32,  val loss 0.378443, percent error 9.90\n",
            "Epoch    93, train loss 0.021849, train error 0.25,  val loss 0.376537, percent error 10.20\n",
            "Epoch    94, train loss 0.021892, train error 0.30,  val loss 0.377116, percent error 10.40\n",
            "Epoch    95, train loss 0.021833, train error 0.30,  val loss 0.378575, percent error 10.30\n",
            "Epoch    96, train loss 0.021528, train error 0.22,  val loss 0.380050, percent error 9.90\n",
            "Epoch    97, train loss 0.021558, train error 0.30,  val loss 0.376918, percent error 10.30\n",
            "Epoch    98, train loss 0.021271, train error 0.22,  val loss 0.380286, percent error 10.00\n",
            "Epoch    99, train loss 0.021317, train error 0.28,  val loss 0.379397, percent error 9.70\n"
          ]
        },
        {
          "output_type": "display_data",
          "data": {
            "text/plain": [
              "<Figure size 640x480 with 1 Axes>"
            ],
            "image/png": "[encoded data removed]"
          },
          "metadata": {}
        }
      ]
    }
  ]
}