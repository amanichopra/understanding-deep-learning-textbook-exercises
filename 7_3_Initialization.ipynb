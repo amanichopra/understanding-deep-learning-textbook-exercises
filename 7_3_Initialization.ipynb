{
  "nbformat": 4,
  "nbformat_minor": 0,
  "metadata": {
    "colab": {
      "provenance": [],
      "include_colab_link": true
    },
    "kernelspec": {
      "name": "python3",
      "display_name": "Python 3"
    },
    "language_info": {
      "name": "python"
    }
  },
  "cells": [
    {
      "cell_type": "markdown",
      "metadata": {
        "id": "view-in-github",
        "colab_type": "text"
      },
      "source": [
        "<a href=\"https://colab.research.google.com/github/amanichopra/understanding-deep-learning-textbook-exercises/blob/main/7_3_Initialization.ipynb\" target=\"_parent\"><img src=\"https://colab.research.google.com/assets/colab-badge.svg\" alt=\"Open In Colab\"/></a>"
      ]
    },
    {
      "cell_type": "markdown",
      "source": [
        "# **Notebook 7.3: Initialization**\n",
        "\n",
        "This notebook explores weight initialization in deep neural networks as described in section 7.5 of the book.\n",
        "\n",
        "Work through the cells below, running each cell in turn. In various places you will see the words \"TODO\". Follow the instructions at these places and make predictions about what is going to happen or write code to complete the functions.\n",
        "\n",
        "Contact me at udlbookmail@gmail.com if you find any mistakes or have any suggestions."
      ],
      "metadata": {
        "id": "L6chybAVFJW2"
      }
    },
    {
      "cell_type": "code",
      "execution_count": 1,
      "metadata": {
        "id": "LdIDglk1FFcG"
      },
      "outputs": [],
      "source": [
        "import numpy as np\n",
        "import matplotlib.pyplot as plt"
      ]
    },
    {
      "cell_type": "markdown",
      "source": [
        "First let's define a neural network.  We'll just choose the weights and biases randomly for now"
      ],
      "metadata": {
        "id": "nnUoI0m6GyjC"
      }
    },
    {
      "cell_type": "code",
      "source": [
        "def init_params(K, D, sigma_sq_omega):\n",
        "  # Set seed so we always get the same random numbers\n",
        "  np.random.seed(0)\n",
        "\n",
        "  # Input layer\n",
        "  D_i = 1\n",
        "  # Output layer\n",
        "  D_o = 1\n",
        "\n",
        "  # Make empty lists\n",
        "  all_weights = [None] * (K+1)\n",
        "  all_biases = [None] * (K+1)\n",
        "\n",
        "  # Create input and output layers\n",
        "  all_weights[0] = np.random.normal(size=(D, D_i))*np.sqrt(sigma_sq_omega)\n",
        "  all_weights[-1] = np.random.normal(size=(D_o, D)) * np.sqrt(sigma_sq_omega)\n",
        "  all_biases[0] = np.zeros((D,1))\n",
        "  all_biases[-1]= np.zeros((D_o,1))\n",
        "\n",
        "  # Create intermediate layers\n",
        "  for layer in range(1,K):\n",
        "    all_weights[layer] = np.random.normal(size=(D,D))*np.sqrt(sigma_sq_omega)\n",
        "    all_biases[layer] = np.zeros((D,1))\n",
        "\n",
        "  return all_weights, all_biases"
      ],
      "metadata": {
        "id": "WVM4Tc_jGI0Q"
      },
      "execution_count": 2,
      "outputs": []
    },
    {
      "cell_type": "code",
      "source": [
        "# Define the Rectified Linear Unit (ReLU) function\n",
        "def ReLU(preactivation):\n",
        "  activation = preactivation.clip(0.0)\n",
        "  return activation"
      ],
      "metadata": {
        "id": "jZh-7bPXIDq4"
      },
      "execution_count": 3,
      "outputs": []
    },
    {
      "cell_type": "code",
      "source": [
        "def compute_network_output(net_input, all_weights, all_biases):\n",
        "\n",
        "  # Retrieve number of layers\n",
        "  K = len(all_weights)-1\n",
        "\n",
        "  # We'll store the pre-activations at each layer in a list \"all_f\"\n",
        "  # and the activations in a second list \"all_h\".\n",
        "  all_f = [None] * (K+1)\n",
        "  all_h = [None] * (K+1)\n",
        "\n",
        "  #For convenience, we'll set\n",
        "  # all_h[0] to be the input, and all_f[K] will be the output\n",
        "  all_h[0] = net_input\n",
        "\n",
        "  # Run through the layers, calculating all_f[0...K-1] and all_h[1...K]\n",
        "  for layer in range(K):\n",
        "      # Update preactivations and activations at this layer according to eqn 7.5\n",
        "      all_f[layer] = all_biases[layer] + np.matmul(all_weights[layer], all_h[layer])\n",
        "      all_h[layer+1] = ReLU(all_f[layer])\n",
        "\n",
        "  # Compute the output from the last hidden layer\n",
        "  all_f[K] = all_biases[K] + np.matmul(all_weights[K], all_h[K])\n",
        "\n",
        "  # Retrieve the output\n",
        "  net_output = all_f[K]\n",
        "\n",
        "  return net_output, all_f, all_h"
      ],
      "metadata": {
        "id": "LgquJUJvJPaN"
      },
      "execution_count": 5,
      "outputs": []
    },
    {
      "cell_type": "markdown",
      "source": [
        "Now let's investigate how the size of the outputs vary as we change the initialization variance:\n"
      ],
      "metadata": {
        "id": "bIUrcXnOqChl"
      }
    },
    {
      "cell_type": "code",
      "source": [
        "all_h[1]"
      ],
      "metadata": {
        "colab": {
          "base_uri": "https://localhost:8080/"
        },
        "id": "Y_2Fw8kUk5eW",
        "outputId": "007221e0-2ea1-4181-ab8f-a9d959fcf3bf"
      },
      "execution_count": 11,
      "outputs": [
        {
          "output_type": "execute_result",
          "data": {
            "text/plain": [
              "array([[3.4503317 , 0.68814504, 0.        , ..., 3.39108149, 0.        ,\n",
              "        2.4791382 ],\n",
              "       [0.78267241, 0.15609866, 0.        , ..., 0.76923211, 0.        ,\n",
              "        0.56236711],\n",
              "       [1.91432567, 0.38179915, 0.        , ..., 1.88145226, 0.        ,\n",
              "        1.37548454],\n",
              "       ...,\n",
              "       [0.        , 0.        , 0.63758448, ..., 0.        , 2.06699746,\n",
              "        0.        ],\n",
              "       [1.85828963, 0.37062315, 0.        , ..., 1.82637848, 0.        ,\n",
              "        1.33522143],\n",
              "       [0.        , 0.        , 0.09874674, ..., 0.        , 0.32012897,\n",
              "        0.        ]])"
            ]
          },
          "metadata": {},
          "execution_count": 11
        }
      ]
    },
    {
      "cell_type": "code",
      "source": [
        "# Number of layers\n",
        "K = 5\n",
        "# Number of neurons per layer\n",
        "D = 8\n",
        "# Input layer\n",
        "D_i = 1\n",
        "# Output layer\n",
        "D_o = 1\n",
        "# Set variance of initial weights to 1\n",
        "sigma_sq_omega = 1.0\n",
        "# Initialize parameters\n",
        "all_weights, all_biases = init_params(K,D,sigma_sq_omega)\n",
        "\n",
        "n_data = 1000\n",
        "data_in = np.random.normal(size=(1,n_data))\n",
        "net_output, all_f, all_h = compute_network_output(data_in, all_weights, all_biases)\n",
        "\n",
        "for layer in range(1,K+1):\n",
        "  print(\"Layer %d, std of hidden units = %3.3f\"%(layer, np.std(all_h[layer])))"
      ],
      "metadata": {
        "id": "A55z3rKBqO7M",
        "colab": {
          "base_uri": "https://localhost:8080/"
        },
        "outputId": "ca64c9b7-6d46-4705-ca69-dd2f8a52dd4d"
      },
      "execution_count": 6,
      "outputs": [
        {
          "output_type": "stream",
          "name": "stdout",
          "text": [
            "Layer 1, std of hidden units = 0.811\n",
            "Layer 2, std of hidden units = 1.472\n",
            "Layer 3, std of hidden units = 4.547\n",
            "Layer 4, std of hidden units = 8.896\n",
            "Layer 5, std of hidden units = 10.106\n"
          ]
        }
      ]
    },
    {
      "cell_type": "code",
      "source": [
        "# You can see that the values of the hidden units are increasing on average (the variance is across all hidden units at the layer\n",
        "# and the 1000 training examples"
      ],
      "metadata": {
        "id": "VL_SO4tar3DC"
      },
      "execution_count": null,
      "outputs": []
    },
    {
      "cell_type": "code",
      "source": [
        "# TODO\n",
        "# Change this to 50 layers with 80 hidden units per layer\n",
        "\n",
        "# Number of layers\n",
        "K = 50\n",
        "# Number of neurons per layer\n",
        "D = 80\n",
        "# Input layer\n",
        "D_i = 1\n",
        "# Output layer\n",
        "D_o = 1\n",
        "# Set variance of initial weights to 1\n",
        "sigma_sq_omega = 1.0\n",
        "# Initialize parameters\n",
        "all_weights, all_biases = init_params(K,D,sigma_sq_omega)\n",
        "\n",
        "n_data = 1000\n",
        "data_in = np.random.normal(size=(1,n_data))\n",
        "net_output, all_f, all_h = compute_network_output(data_in, all_weights, all_biases)\n",
        "\n",
        "for layer in range(1,K+1):\n",
        "  print(\"Layer %d, std of hidden units = %3.3f\"%(layer, np.std(all_h[layer])))"
      ],
      "metadata": {
        "colab": {
          "base_uri": "https://localhost:8080/"
        },
        "id": "RcA9OViClY-m",
        "outputId": "982f8660-aec7-4e74-b37d-b68d54d87386"
      },
      "execution_count": 12,
      "outputs": [
        {
          "output_type": "stream",
          "name": "stdout",
          "text": [
            "Layer 1, std of hidden units = 0.622\n",
            "Layer 2, std of hidden units = 3.108\n",
            "Layer 3, std of hidden units = 21.075\n",
            "Layer 4, std of hidden units = 161.638\n",
            "Layer 5, std of hidden units = 1125.582\n",
            "Layer 6, std of hidden units = 6319.072\n",
            "Layer 7, std of hidden units = 37275.665\n",
            "Layer 8, std of hidden units = 243387.814\n",
            "Layer 9, std of hidden units = 1339835.231\n",
            "Layer 10, std of hidden units = 7366234.399\n",
            "Layer 11, std of hidden units = 49006173.785\n",
            "Layer 12, std of hidden units = 272845366.658\n",
            "Layer 13, std of hidden units = 1682043584.115\n",
            "Layer 14, std of hidden units = 10666632256.715\n",
            "Layer 15, std of hidden units = 66098343304.232\n",
            "Layer 16, std of hidden units = 429669007251.536\n",
            "Layer 17, std of hidden units = 2889209957356.916\n",
            "Layer 18, std of hidden units = 19621779417283.500\n",
            "Layer 19, std of hidden units = 121787762396578.969\n",
            "Layer 20, std of hidden units = 999886829483868.875\n",
            "Layer 21, std of hidden units = 5334411928004679.000\n",
            "Layer 22, std of hidden units = 33827620837739412.000\n",
            "Layer 23, std of hidden units = 225444894681278176.000\n",
            "Layer 24, std of hidden units = 1627820610460267776.000\n",
            "Layer 25, std of hidden units = 11267764649765797888.000\n",
            "Layer 26, std of hidden units = 67624804921841573888.000\n",
            "Layer 27, std of hidden units = 364972590784171016192.000\n",
            "Layer 28, std of hidden units = 2240665662851632070656.000\n",
            "Layer 29, std of hidden units = 17591855121671590510592.000\n",
            "Layer 30, std of hidden units = 127571735900692099891200.000\n",
            "Layer 31, std of hidden units = 673191222755367401291776.000\n",
            "Layer 32, std of hidden units = 3013965906952738308096000.000\n",
            "Layer 33, std of hidden units = 18058080219374336341966848.000\n",
            "Layer 34, std of hidden units = 113844343088523883136942080.000\n",
            "Layer 35, std of hidden units = 743768651021983614777688064.000\n",
            "Layer 36, std of hidden units = 4212183983909334019905421312.000\n",
            "Layer 37, std of hidden units = 29165435896872114952769372160.000\n",
            "Layer 38, std of hidden units = 158335947919997755737983942656.000\n",
            "Layer 39, std of hidden units = 997715185910698111272413560832.000\n",
            "Layer 40, std of hidden units = 6426783972194130038049969537024.000\n",
            "Layer 41, std of hidden units = 43768309206637147921539531800576.000\n",
            "Layer 42, std of hidden units = 303487129329508551216341155053568.000\n",
            "Layer 43, std of hidden units = 1776138313453572474864744603320320.000\n",
            "Layer 44, std of hidden units = 11908465022449954960409252809670656.000\n",
            "Layer 45, std of hidden units = 89231570537681377058251182172012544.000\n",
            "Layer 46, std of hidden units = 537142295281509613087075230529093632.000\n",
            "Layer 47, std of hidden units = 3598219068834594188168289796459855872.000\n",
            "Layer 48, std of hidden units = 19195733181303612908140446019993206784.000\n",
            "Layer 49, std of hidden units = 112209168636519545406961012606813339648.000\n",
            "Layer 50, std of hidden units = 753218502856424628936041819469258948608.000\n"
          ]
        }
      ]
    },
    {
      "cell_type": "code",
      "source": [
        "# TODO\n",
        "# Now experiment with sigma_sq_omega to try to stop the variance of the forward computation exploding"
      ],
      "metadata": {
        "id": "cjGCX-NGllMm"
      },
      "execution_count": null,
      "outputs": []
    },
    {
      "cell_type": "code",
      "source": [
        "# TODO\n",
        "# Change this to 50 layers with 80 hidden units per layer\n",
        "\n",
        "# Number of layers\n",
        "K = 50\n",
        "# Number of neurons per layer\n",
        "D = 80\n",
        "# Input layer\n",
        "D_i = 1\n",
        "# Output layer\n",
        "D_o = 1\n",
        "# Set variance of initial weights to 1\n",
        "sigma_sq_omega = 0.01\n",
        "# Initialize parameters\n",
        "all_weights, all_biases = init_params(K,D,sigma_sq_omega)\n",
        "\n",
        "n_data = 1000\n",
        "data_in = np.random.normal(size=(1,n_data))\n",
        "net_output, all_f, all_h = compute_network_output(data_in, all_weights, all_biases)\n",
        "\n",
        "for layer in range(1,K+1):\n",
        "  print(\"Layer %d, std of hidden units = %3.3f\"%(layer, np.std(all_h[layer])))"
      ],
      "metadata": {
        "colab": {
          "base_uri": "https://localhost:8080/"
        },
        "id": "DnBicnN4lnty",
        "outputId": "d391737d-de83-4623-a1c5-a1b1a2930133"
      },
      "execution_count": 15,
      "outputs": [
        {
          "output_type": "stream",
          "name": "stdout",
          "text": [
            "Layer 1, std of hidden units = 0.062\n",
            "Layer 2, std of hidden units = 0.031\n",
            "Layer 3, std of hidden units = 0.021\n",
            "Layer 4, std of hidden units = 0.016\n",
            "Layer 5, std of hidden units = 0.011\n",
            "Layer 6, std of hidden units = 0.006\n",
            "Layer 7, std of hidden units = 0.004\n",
            "Layer 8, std of hidden units = 0.002\n",
            "Layer 9, std of hidden units = 0.001\n",
            "Layer 10, std of hidden units = 0.001\n",
            "Layer 11, std of hidden units = 0.000\n",
            "Layer 12, std of hidden units = 0.000\n",
            "Layer 13, std of hidden units = 0.000\n",
            "Layer 14, std of hidden units = 0.000\n",
            "Layer 15, std of hidden units = 0.000\n",
            "Layer 16, std of hidden units = 0.000\n",
            "Layer 17, std of hidden units = 0.000\n",
            "Layer 18, std of hidden units = 0.000\n",
            "Layer 19, std of hidden units = 0.000\n",
            "Layer 20, std of hidden units = 0.000\n",
            "Layer 21, std of hidden units = 0.000\n",
            "Layer 22, std of hidden units = 0.000\n",
            "Layer 23, std of hidden units = 0.000\n",
            "Layer 24, std of hidden units = 0.000\n",
            "Layer 25, std of hidden units = 0.000\n",
            "Layer 26, std of hidden units = 0.000\n",
            "Layer 27, std of hidden units = 0.000\n",
            "Layer 28, std of hidden units = 0.000\n",
            "Layer 29, std of hidden units = 0.000\n",
            "Layer 30, std of hidden units = 0.000\n",
            "Layer 31, std of hidden units = 0.000\n",
            "Layer 32, std of hidden units = 0.000\n",
            "Layer 33, std of hidden units = 0.000\n",
            "Layer 34, std of hidden units = 0.000\n",
            "Layer 35, std of hidden units = 0.000\n",
            "Layer 36, std of hidden units = 0.000\n",
            "Layer 37, std of hidden units = 0.000\n",
            "Layer 38, std of hidden units = 0.000\n",
            "Layer 39, std of hidden units = 0.000\n",
            "Layer 40, std of hidden units = 0.000\n",
            "Layer 41, std of hidden units = 0.000\n",
            "Layer 42, std of hidden units = 0.000\n",
            "Layer 43, std of hidden units = 0.000\n",
            "Layer 44, std of hidden units = 0.000\n",
            "Layer 45, std of hidden units = 0.000\n",
            "Layer 46, std of hidden units = 0.000\n",
            "Layer 47, std of hidden units = 0.000\n",
            "Layer 48, std of hidden units = 0.000\n",
            "Layer 49, std of hidden units = 0.000\n",
            "Layer 50, std of hidden units = 0.000\n"
          ]
        }
      ]
    },
    {
      "cell_type": "code",
      "source": [
        "# TODO\n",
        "# Change this to 50 layers with 80 hidden units per layer\n",
        "\n",
        "# Number of layers\n",
        "K = 50\n",
        "# Number of neurons per layer\n",
        "D = 80\n",
        "# Input layer\n",
        "D_i = 1\n",
        "# Output layer\n",
        "D_o = 1\n",
        "# Set variance of initial weights to 1\n",
        "sigma_sq_omega = 0.1\n",
        "# Initialize parameters\n",
        "all_weights, all_biases = init_params(K,D,sigma_sq_omega)\n",
        "\n",
        "n_data = 1000\n",
        "data_in = np.random.normal(size=(1,n_data))\n",
        "net_output, all_f, all_h = compute_network_output(data_in, all_weights, all_biases)\n",
        "\n",
        "for layer in range(1,K+1):\n",
        "  print(\"Layer %d, std of hidden units = %3.3f\"%(layer, np.std(all_h[layer])))"
      ],
      "metadata": {
        "colab": {
          "base_uri": "https://localhost:8080/"
        },
        "id": "4Fxofhd_lsOg",
        "outputId": "a09fd50b-99e7-4662-d129-c412a2e93063"
      },
      "execution_count": 17,
      "outputs": [
        {
          "output_type": "stream",
          "name": "stdout",
          "text": [
            "Layer 1, std of hidden units = 0.197\n",
            "Layer 2, std of hidden units = 0.311\n",
            "Layer 3, std of hidden units = 0.666\n",
            "Layer 4, std of hidden units = 1.616\n",
            "Layer 5, std of hidden units = 3.559\n",
            "Layer 6, std of hidden units = 6.319\n",
            "Layer 7, std of hidden units = 11.788\n",
            "Layer 8, std of hidden units = 24.339\n",
            "Layer 9, std of hidden units = 42.369\n",
            "Layer 10, std of hidden units = 73.662\n",
            "Layer 11, std of hidden units = 154.971\n",
            "Layer 12, std of hidden units = 272.845\n",
            "Layer 13, std of hidden units = 531.909\n",
            "Layer 14, std of hidden units = 1066.663\n",
            "Layer 15, std of hidden units = 2090.213\n",
            "Layer 16, std of hidden units = 4296.690\n",
            "Layer 17, std of hidden units = 9136.484\n",
            "Layer 18, std of hidden units = 19621.779\n",
            "Layer 19, std of hidden units = 38512.672\n",
            "Layer 20, std of hidden units = 99988.683\n",
            "Layer 21, std of hidden units = 168688.917\n",
            "Layer 22, std of hidden units = 338276.208\n",
            "Layer 23, std of hidden units = 712919.354\n",
            "Layer 24, std of hidden units = 1627820.610\n",
            "Layer 25, std of hidden units = 3563180.043\n",
            "Layer 26, std of hidden units = 6762480.492\n",
            "Layer 27, std of hidden units = 11541446.704\n",
            "Layer 28, std of hidden units = 22406656.629\n",
            "Layer 29, std of hidden units = 55630330.452\n",
            "Layer 30, std of hidden units = 127571735.901\n",
            "Layer 31, std of hidden units = 212881756.474\n",
            "Layer 32, std of hidden units = 301396590.695\n",
            "Layer 33, std of hidden units = 571046636.633\n",
            "Layer 34, std of hidden units = 1138443430.885\n",
            "Layer 35, std of hidden units = 2352002989.460\n",
            "Layer 36, std of hidden units = 4212183983.909\n",
            "Layer 37, std of hidden units = 9222920638.575\n",
            "Layer 38, std of hidden units = 15833594792.000\n",
            "Layer 39, std of hidden units = 31550524436.161\n",
            "Layer 40, std of hidden units = 64267839721.941\n",
            "Layer 41, std of hidden units = 138407546427.491\n",
            "Layer 42, std of hidden units = 303487129329.509\n",
            "Layer 43, std of hidden units = 561664251000.338\n",
            "Layer 44, std of hidden units = 1190846502244.997\n",
            "Layer 45, std of hidden units = 2821750020930.491\n",
            "Layer 46, std of hidden units = 5371422952815.103\n",
            "Layer 47, std of hidden units = 11378567777767.520\n",
            "Layer 48, std of hidden units = 19195733181303.641\n",
            "Layer 49, std of hidden units = 35483654724533.266\n",
            "Layer 50, std of hidden units = 75321850285642.578\n"
          ]
        }
      ]
    },
    {
      "cell_type": "code",
      "source": [
        "# TODO\n",
        "# Change this to 50 layers with 80 hidden units per layer\n",
        "\n",
        "# Number of layers\n",
        "K = 50\n",
        "# Number of neurons per layer\n",
        "D = 80\n",
        "# Input layer\n",
        "D_i = 1\n",
        "# Output layer\n",
        "D_o = 1\n",
        "# Set variance of initial weights to 1\n",
        "sigma_sq_omega = 0.025\n",
        "# Initialize parameters\n",
        "all_weights, all_biases = init_params(K,D,sigma_sq_omega)\n",
        "\n",
        "n_data = 1000\n",
        "data_in = np.random.normal(size=(1,n_data))\n",
        "net_output, all_f, all_h = compute_network_output(data_in, all_weights, all_biases)\n",
        "\n",
        "for layer in range(1,K+1):\n",
        "  print(\"Layer %d, std of hidden units = %3.3f\"%(layer, np.std(all_h[layer])))"
      ],
      "metadata": {
        "colab": {
          "base_uri": "https://localhost:8080/"
        },
        "id": "EYBv998GlxMP",
        "outputId": "5f7d435a-ebf2-4a5d-d51d-63e96f2fa330"
      },
      "execution_count": 23,
      "outputs": [
        {
          "output_type": "stream",
          "name": "stdout",
          "text": [
            "Layer 1, std of hidden units = 0.098\n",
            "Layer 2, std of hidden units = 0.078\n",
            "Layer 3, std of hidden units = 0.083\n",
            "Layer 4, std of hidden units = 0.101\n",
            "Layer 5, std of hidden units = 0.111\n",
            "Layer 6, std of hidden units = 0.099\n",
            "Layer 7, std of hidden units = 0.092\n",
            "Layer 8, std of hidden units = 0.095\n",
            "Layer 9, std of hidden units = 0.083\n",
            "Layer 10, std of hidden units = 0.072\n",
            "Layer 11, std of hidden units = 0.076\n",
            "Layer 12, std of hidden units = 0.067\n",
            "Layer 13, std of hidden units = 0.065\n",
            "Layer 14, std of hidden units = 0.065\n",
            "Layer 15, std of hidden units = 0.064\n",
            "Layer 16, std of hidden units = 0.066\n",
            "Layer 17, std of hidden units = 0.070\n",
            "Layer 18, std of hidden units = 0.075\n",
            "Layer 19, std of hidden units = 0.073\n",
            "Layer 20, std of hidden units = 0.095\n",
            "Layer 21, std of hidden units = 0.080\n",
            "Layer 22, std of hidden units = 0.081\n",
            "Layer 23, std of hidden units = 0.085\n",
            "Layer 24, std of hidden units = 0.097\n",
            "Layer 25, std of hidden units = 0.106\n",
            "Layer 26, std of hidden units = 0.101\n",
            "Layer 27, std of hidden units = 0.086\n",
            "Layer 28, std of hidden units = 0.083\n",
            "Layer 29, std of hidden units = 0.104\n",
            "Layer 30, std of hidden units = 0.119\n",
            "Layer 31, std of hidden units = 0.099\n",
            "Layer 32, std of hidden units = 0.070\n",
            "Layer 33, std of hidden units = 0.066\n",
            "Layer 34, std of hidden units = 0.066\n",
            "Layer 35, std of hidden units = 0.068\n",
            "Layer 36, std of hidden units = 0.061\n",
            "Layer 37, std of hidden units = 0.067\n",
            "Layer 38, std of hidden units = 0.058\n",
            "Layer 39, std of hidden units = 0.057\n",
            "Layer 40, std of hidden units = 0.058\n",
            "Layer 41, std of hidden units = 0.063\n",
            "Layer 42, std of hidden units = 0.069\n",
            "Layer 43, std of hidden units = 0.064\n",
            "Layer 44, std of hidden units = 0.068\n",
            "Layer 45, std of hidden units = 0.080\n",
            "Layer 46, std of hidden units = 0.076\n",
            "Layer 47, std of hidden units = 0.081\n",
            "Layer 48, std of hidden units = 0.068\n",
            "Layer 49, std of hidden units = 0.063\n",
            "Layer 50, std of hidden units = 0.067\n"
          ]
        }
      ]
    },
    {
      "cell_type": "markdown",
      "source": [
        "Now let's define a loss function.  We'll just use the least squares loss function. We'll also write a function to compute dloss_doutput\n"
      ],
      "metadata": {
        "id": "SxVTKp3IcoBF"
      }
    },
    {
      "cell_type": "code",
      "source": [
        "def least_squares_loss(net_output, y):\n",
        "  return np.sum((net_output-y) * (net_output-y))\n",
        "\n",
        "def d_loss_d_output(net_output, y):\n",
        "    return 2*(net_output -y);"
      ],
      "metadata": {
        "id": "6XqWSYWJdhQR"
      },
      "execution_count": 24,
      "outputs": []
    },
    {
      "cell_type": "markdown",
      "source": [
        "Here's the code for the backward pass"
      ],
      "metadata": {
        "id": "98WmyqFYWA-0"
      }
    },
    {
      "cell_type": "code",
      "source": [
        "# We'll need the indicator function\n",
        "def indicator_function(x):\n",
        "  x_in = np.array(x)\n",
        "  x_in[x_in>=0] = 1\n",
        "  x_in[x_in<0] = 0\n",
        "  return x_in\n",
        "\n",
        "# Main backward pass routine\n",
        "def backward_pass(all_weights, all_biases, all_f, all_h, y):\n",
        "  # Retrieve number of layers\n",
        "  K = len(all_weights) - 1\n",
        "\n",
        "  # We'll store the derivatives dl_dweights and dl_dbiases in lists as well\n",
        "  all_dl_dweights = [None] * (K+1)\n",
        "  all_dl_dbiases = [None] * (K+1)\n",
        "  # And we'll store the derivatives of the loss with respect to the activation and preactivations in lists\n",
        "  all_dl_df = [None] * (K+1)\n",
        "  all_dl_dh = [None] * (K+1)\n",
        "  # Again for convenience we'll stick with the convention that all_h[0] is the net input and all_f[k] in the net output\n",
        "\n",
        "  # Compute derivatives of net output with respect to loss\n",
        "  all_dl_df[K] = np.array(d_loss_d_output(all_f[K],y))\n",
        "\n",
        "  # Now work backwards through the network\n",
        "  for layer in range(K,-1,-1):\n",
        "    # Calculate the derivatives of biases at layer from all_dl_df[K]. (eq 7.13, line 1)\n",
        "    all_dl_dbiases[layer] = np.array(all_dl_df[layer])\n",
        "    # Calculate the derivatives of weight at layer from all_dl_df[K] and all_h[K] (eq 7.13, line 2)\n",
        "    all_dl_dweights[layer] = np.matmul(all_dl_df[layer], all_h[layer].transpose())\n",
        "\n",
        "    # Calculate the derivatives of activations from weight and derivatives of next preactivations (eq 7.13, line 3 second part)\n",
        "    all_dl_dh[layer] = np.matmul(all_weights[layer].transpose(), all_dl_df[layer])\n",
        "    # Calculate the derivatives of the pre-activation f with respect to activation h (eq 7.13, line 3, first part)\n",
        "    if layer > 0:\n",
        "      all_dl_df[layer-1] = indicator_function(all_f[layer-1]) * all_dl_dh[layer]\n",
        "\n",
        "  return all_dl_dweights, all_dl_dbiases, all_dl_dh, all_dl_df"
      ],
      "metadata": {
        "id": "LJng7WpRPLMz"
      },
      "execution_count": 25,
      "outputs": []
    },
    {
      "cell_type": "markdown",
      "source": [
        "Now let's look at what happens to the magnitude of the gradients on the way back."
      ],
      "metadata": {
        "id": "phFnbthqwhFi"
      }
    },
    {
      "cell_type": "code",
      "source": [
        "# Number of layers\n",
        "K = 5\n",
        "# Number of neurons per layer\n",
        "D = 8\n",
        "# Input layer\n",
        "D_i = 1\n",
        "# Output layer\n",
        "D_o = 1\n",
        "# Set variance of initial weights to 1\n",
        "sigma_sq_omega = 1.0\n",
        "# Initialize parameters\n",
        "all_weights, all_biases = init_params(K,D,sigma_sq_omega)\n",
        "\n",
        "# For simplicity we'll just consider the gradients of the weights and biases between the first and last hidden layer\n",
        "n_data = 100\n",
        "aggregate_dl_df = [None] * (K+1)\n",
        "for layer in range(1,K):\n",
        "  # These 3D arrays will store the gradients for every data point\n",
        "  aggregate_dl_df[layer] = np.zeros((D,n_data))\n",
        "\n",
        "\n",
        "# We'll have to compute the derivatives of the parameters for each data point separately\n",
        "for c_data in range(n_data):\n",
        "  data_in = np.random.normal(size=(1,1))\n",
        "  y = np.zeros((1,1))\n",
        "  net_output, all_f, all_h = compute_network_output(data_in, all_weights, all_biases)\n",
        "  all_dl_dweights, all_dl_dbiases, all_dl_dh, all_dl_df = backward_pass(all_weights, all_biases, all_f, all_h, y)\n",
        "  for layer in range(1,K):\n",
        "    aggregate_dl_df[layer][:,c_data] = np.squeeze(all_dl_df[layer])\n",
        "\n",
        "for layer in range(1,K):\n",
        "  print(\"Layer %d, std of dl_dh = %3.3f\"%(layer, np.std(aggregate_dl_df[layer].ravel())))\n"
      ],
      "metadata": {
        "id": "9A9MHc4sQvbp",
        "colab": {
          "base_uri": "https://localhost:8080/"
        },
        "outputId": "84081978-ff1e-4290-a69f-d149fe8e7527"
      },
      "execution_count": 26,
      "outputs": [
        {
          "output_type": "stream",
          "name": "stdout",
          "text": [
            "Layer 1, std of dl_dh = 446.654\n",
            "Layer 2, std of dl_dh = 340.657\n",
            "Layer 3, std of dl_dh = 109.132\n",
            "Layer 4, std of dl_dh = 56.472\n"
          ]
        }
      ]
    },
    {
      "cell_type": "code",
      "source": [
        "# You can see that the gradients of the hidden units are increasing on average (the standard deviation is across all hidden units at the layer\n",
        "# and the 100 training examples\n"
      ],
      "metadata": {
        "id": "gtokc0VX0839"
      },
      "execution_count": 27,
      "outputs": []
    },
    {
      "cell_type": "code",
      "source": [
        "# TODO\n",
        "# Change this to 50 layers with 80 hidden units per layer\n",
        "\n",
        "# Number of layers\n",
        "K = 50\n",
        "# Number of neurons per layer\n",
        "D = 80\n",
        "# Input layer\n",
        "D_i = 1\n",
        "# Output layer\n",
        "D_o = 1\n",
        "# Set variance of initial weights to 1\n",
        "sigma_sq_omega = 1.0\n",
        "# Initialize parameters\n",
        "all_weights, all_biases = init_params(K,D,sigma_sq_omega)\n",
        "\n",
        "# For simplicity we'll just consider the gradients of the weights and biases between the first and last hidden layer\n",
        "n_data = 100\n",
        "aggregate_dl_df = [None] * (K+1)\n",
        "for layer in range(1,K):\n",
        "  # These 3D arrays will store the gradients for every data point\n",
        "  aggregate_dl_df[layer] = np.zeros((D,n_data))\n",
        "\n",
        "\n",
        "# We'll have to compute the derivatives of the parameters for each data point separately\n",
        "for c_data in range(n_data):\n",
        "  data_in = np.random.normal(size=(1,1))\n",
        "  y = np.zeros((1,1))\n",
        "  net_output, all_f, all_h = compute_network_output(data_in, all_weights, all_biases)\n",
        "  all_dl_dweights, all_dl_dbiases, all_dl_dh, all_dl_df = backward_pass(all_weights, all_biases, all_f, all_h, y)\n",
        "  for layer in range(1,K):\n",
        "    aggregate_dl_df[layer][:,c_data] = np.squeeze(all_dl_df[layer])\n",
        "\n",
        "for layer in range(1,K):\n",
        "  print(\"Layer %d, std of dl_dh = %3.3f\"%(layer, np.std(aggregate_dl_df[layer].ravel())))\n"
      ],
      "metadata": {
        "colab": {
          "base_uri": "https://localhost:8080/"
        },
        "id": "PseWNJ_LmB5m",
        "outputId": "630aaacb-f26d-48ba-a215-0d1752cfcd11"
      },
      "execution_count": 28,
      "outputs": [
        {
          "output_type": "stream",
          "name": "stdout",
          "text": [
            "Layer 1, std of dl_dh = 3864161615668244381461267510373904423054174106385627368088294218476908925943808.000\n",
            "Layer 2, std of dl_dh = 644297462740804713442581900026680633808249992732441097572021950434417515167744.000\n",
            "Layer 3, std of dl_dh = 116256578506420949530034836693026278332620775906201422909563657755039975342080.000\n",
            "Layer 4, std of dl_dh = 18012406883088290574820624800592506146677260025062386448774316977284251123712.000\n",
            "Layer 5, std of dl_dh = 2657382923492155237517743551772839757190473680951583847484196418047631687680.000\n",
            "Layer 6, std of dl_dh = 437115574218245193807908837898776765075349933300781174644617597538000699392.000\n",
            "Layer 7, std of dl_dh = 72289425689022383694959922502133948966481633180885036698402715526890520576.000\n",
            "Layer 8, std of dl_dh = 10229045579369877059893160585567011515114230101645934741607603021463683072.000\n",
            "Layer 9, std of dl_dh = 1622769590787357221165998426801933037786842056906651889376730795250548736.000\n",
            "Layer 10, std of dl_dh = 291677266860870437780232576190188443241514488697868118675201045020278784.000\n",
            "Layer 11, std of dl_dh = 47040925004825710092577350412895155453321563697526018504489216478543872.000\n",
            "Layer 12, std of dl_dh = 7477794785556511029375003658625364545843316026986261679990214882230272.000\n",
            "Layer 13, std of dl_dh = 1079960630998983249752166647771489546517745439258609007782338718859264.000\n",
            "Layer 14, std of dl_dh = 177343205970746323022535267612975334749257408015264898871563036655616.000\n",
            "Layer 15, std of dl_dh = 29375585020824601862634145389942297584964020572455193261493213724672.000\n",
            "Layer 16, std of dl_dh = 4228152175740393840420430907377032438398605544578239798569609461760.000\n",
            "Layer 17, std of dl_dh = 571601369784794895910562631031416171904392915902935598268120301568.000\n",
            "Layer 18, std of dl_dh = 91625806080021443266251793730777964254284721650597171089696096256.000\n",
            "Layer 19, std of dl_dh = 12981649213666814009051399416069478713914622789141796222322868224.000\n",
            "Layer 20, std of dl_dh = 2521931090077676164675708087308560164602781204488721344485130240.000\n",
            "Layer 21, std of dl_dh = 366590511153710277626208122273738805797073624696981250776236032.000\n",
            "Layer 22, std of dl_dh = 51359326687770703173098879471924704121751805248612732145500160.000\n",
            "Layer 23, std of dl_dh = 8400447047412215957163620697461761172837457898324451376758784.000\n",
            "Layer 24, std of dl_dh = 1167175082942496259171991237990073050542486732428288230162432.000\n",
            "Layer 25, std of dl_dh = 189303733379321820949917225330147038267659861123596728401920.000\n",
            "Layer 26, std of dl_dh = 41712815717105567582202429915066996391791998114458492731392.000\n",
            "Layer 27, std of dl_dh = 5462460278894732059145534135797162339003953001623145414656.000\n",
            "Layer 28, std of dl_dh = 956779985561020140674147027633381199677921770355854147584.000\n",
            "Layer 29, std of dl_dh = 163553513870808583520322854044457808217847000530386157568.000\n",
            "Layer 30, std of dl_dh = 27962097471983042838261328844134491112183619548352610304.000\n",
            "Layer 31, std of dl_dh = 4533651840178384461262480437643334259175029047440703488.000\n",
            "Layer 32, std of dl_dh = 692775722996451558577043031371608601967229693599940608.000\n",
            "Layer 33, std of dl_dh = 115846381203838787394170905633539747898124137758982144.000\n",
            "Layer 34, std of dl_dh = 20622026877096516274168395047672140496941939104415744.000\n",
            "Layer 35, std of dl_dh = 3038521358601097647024950608360837004079382839427072.000\n",
            "Layer 36, std of dl_dh = 486644995502083127708682788488469787451507406274560.000\n",
            "Layer 37, std of dl_dh = 67762952239536214087718500711727746678730564567040.000\n",
            "Layer 38, std of dl_dh = 10332488588890049713609937944320962320259371499520.000\n",
            "Layer 39, std of dl_dh = 1461454311950454403604998671601501964603523858432.000\n",
            "Layer 40, std of dl_dh = 258241445087590735643133194351627983599477719040.000\n",
            "Layer 41, std of dl_dh = 40450451143651943003846240257711296490539843584.000\n",
            "Layer 42, std of dl_dh = 7712581729931043277499507203257816560634429440.000\n",
            "Layer 43, std of dl_dh = 1336239794865748202433384835430338808200036352.000\n",
            "Layer 44, std of dl_dh = 231495044789922145345902695211142088107229184.000\n",
            "Layer 45, std of dl_dh = 39500717745074507415666617946744126827397120.000\n",
            "Layer 46, std of dl_dh = 5987633018620222014740819955864148595703808.000\n",
            "Layer 47, std of dl_dh = 966020560711593611954353793080976121790464.000\n",
            "Layer 48, std of dl_dh = 140118487856732220476770152623959995056128.000\n",
            "Layer 49, std of dl_dh = 18817849764518896023941902245604242751488.000\n"
          ]
        }
      ]
    },
    {
      "cell_type": "code",
      "source": [
        "# TODO\n",
        "# Now experiment with sigma_sq_omega to try to stop the variance of the gradients exploding\n",
        "\n",
        "# Number of layers\n",
        "K = 50\n",
        "# Number of neurons per layer\n",
        "D = 80\n",
        "# Input layer\n",
        "D_i = 1\n",
        "# Output layer\n",
        "D_o = 1\n",
        "# Set variance of initial weights to 1\n",
        "sigma_sq_omega = 0.025\n",
        "# Initialize parameters\n",
        "all_weights, all_biases = init_params(K,D,sigma_sq_omega)\n",
        "\n",
        "# For simplicity we'll just consider the gradients of the weights and biases between the first and last hidden layer\n",
        "n_data = 100\n",
        "aggregate_dl_df = [None] * (K+1)\n",
        "for layer in range(1,K):\n",
        "  # These 3D arrays will store the gradients for every data point\n",
        "  aggregate_dl_df[layer] = np.zeros((D,n_data))\n",
        "\n",
        "\n",
        "# We'll have to compute the derivatives of the parameters for each data point separately\n",
        "for c_data in range(n_data):\n",
        "  data_in = np.random.normal(size=(1,1))\n",
        "  y = np.zeros((1,1))\n",
        "  net_output, all_f, all_h = compute_network_output(data_in, all_weights, all_biases)\n",
        "  all_dl_dweights, all_dl_dbiases, all_dl_dh, all_dl_df = backward_pass(all_weights, all_biases, all_f, all_h, y)\n",
        "  for layer in range(1,K):\n",
        "    aggregate_dl_df[layer][:,c_data] = np.squeeze(all_dl_df[layer])\n",
        "\n",
        "for layer in range(1,K):\n",
        "  print(\"Layer %d, std of dl_dh = %3.3f\"%(layer, np.std(aggregate_dl_df[layer].ravel())))\n"
      ],
      "metadata": {
        "colab": {
          "base_uri": "https://localhost:8080/"
        },
        "id": "rVSoTqyUmJPW",
        "outputId": "ec2f6023-a81e-4d6c-facd-1101c3fdc47f"
      },
      "execution_count": 29,
      "outputs": [
        {
          "output_type": "stream",
          "name": "stdout",
          "text": [
            "Layer 1, std of dl_dh = 0.030\n",
            "Layer 2, std of dl_dh = 0.032\n",
            "Layer 3, std of dl_dh = 0.037\n",
            "Layer 4, std of dl_dh = 0.036\n",
            "Layer 5, std of dl_dh = 0.034\n",
            "Layer 6, std of dl_dh = 0.035\n",
            "Layer 7, std of dl_dh = 0.036\n",
            "Layer 8, std of dl_dh = 0.033\n",
            "Layer 9, std of dl_dh = 0.033\n",
            "Layer 10, std of dl_dh = 0.037\n",
            "Layer 11, std of dl_dh = 0.038\n",
            "Layer 12, std of dl_dh = 0.038\n",
            "Layer 13, std of dl_dh = 0.035\n",
            "Layer 14, std of dl_dh = 0.036\n",
            "Layer 15, std of dl_dh = 0.038\n",
            "Layer 16, std of dl_dh = 0.035\n",
            "Layer 17, std of dl_dh = 0.030\n",
            "Layer 18, std of dl_dh = 0.030\n",
            "Layer 19, std of dl_dh = 0.027\n",
            "Layer 20, std of dl_dh = 0.033\n",
            "Layer 21, std of dl_dh = 0.030\n",
            "Layer 22, std of dl_dh = 0.027\n",
            "Layer 23, std of dl_dh = 0.028\n",
            "Layer 24, std of dl_dh = 0.024\n",
            "Layer 25, std of dl_dh = 0.025\n",
            "Layer 26, std of dl_dh = 0.035\n",
            "Layer 27, std of dl_dh = 0.029\n",
            "Layer 28, std of dl_dh = 0.032\n",
            "Layer 29, std of dl_dh = 0.035\n",
            "Layer 30, std of dl_dh = 0.037\n",
            "Layer 31, std of dl_dh = 0.038\n",
            "Layer 32, std of dl_dh = 0.037\n",
            "Layer 33, std of dl_dh = 0.039\n",
            "Layer 34, std of dl_dh = 0.044\n",
            "Layer 35, std of dl_dh = 0.041\n",
            "Layer 36, std of dl_dh = 0.042\n",
            "Layer 37, std of dl_dh = 0.037\n",
            "Layer 38, std of dl_dh = 0.035\n",
            "Layer 39, std of dl_dh = 0.032\n",
            "Layer 40, std of dl_dh = 0.035\n",
            "Layer 41, std of dl_dh = 0.035\n",
            "Layer 42, std of dl_dh = 0.042\n",
            "Layer 43, std of dl_dh = 0.046\n",
            "Layer 44, std of dl_dh = 0.051\n",
            "Layer 45, std of dl_dh = 0.055\n",
            "Layer 46, std of dl_dh = 0.053\n",
            "Layer 47, std of dl_dh = 0.054\n",
            "Layer 48, std of dl_dh = 0.049\n",
            "Layer 49, std of dl_dh = 0.042\n"
          ]
        }
      ]
    },
    {
      "cell_type": "code",
      "source": [
        "def init_params_he(K, D):\n",
        "    np.random.seed(0)\n",
        "\n",
        "    D_i = 1\n",
        "    D_o = 1\n",
        "\n",
        "    all_weights = [None] * (K+1)\n",
        "    all_biases = [None] * (K+1)\n",
        "\n",
        "    # Input layer\n",
        "    all_weights[0] = np.random.normal(0, np.sqrt(2 / D_i), size=(D, D_i))\n",
        "    print(f'Using std of {np.sqrt(2 / D_i)} for input layer')\n",
        "    all_biases[0] = np.zeros((D, 1))\n",
        "\n",
        "    # Output layer\n",
        "    all_weights[-1] = np.random.normal(0, np.sqrt(2 / D), size=(D_o, D))\n",
        "    all_biases[-1] = np.zeros((D_o, 1))\n",
        "\n",
        "    # Intermediate hidden layers\n",
        "    for layer in range(1, K):\n",
        "        all_weights[layer] = np.random.normal(0, np.sqrt(2 / D), size=(D, D))\n",
        "        print(f'Using std of {np.sqrt(2 / D)} for layer {layer}')\n",
        "        all_biases[layer] = np.zeros((D, 1))\n",
        "\n",
        "    return all_weights, all_biases"
      ],
      "metadata": {
        "id": "klgDR4DppTcv"
      },
      "execution_count": 32,
      "outputs": []
    },
    {
      "cell_type": "code",
      "source": [
        "# Number of layers\n",
        "K = 50\n",
        "# Number of neurons per layer\n",
        "D = 80\n",
        "# Input layer\n",
        "D_i = 1\n",
        "# Output layer\n",
        "D_o = 1\n",
        "\n",
        "# Initialize parameters\n",
        "all_weights, all_biases = init_params_he(K,D)\n",
        "\n",
        "# For simplicity we'll just consider the gradients of the weights and biases between the first and last hidden layer\n",
        "n_data = 100\n",
        "aggregate_dl_df = [None] * (K+1)\n",
        "for layer in range(1,K):\n",
        "  # These 3D arrays will store the gradients for every data point\n",
        "  aggregate_dl_df[layer] = np.zeros((D,n_data))\n",
        "\n",
        "\n",
        "# We'll have to compute the derivatives of the parameters for each data point separately\n",
        "for c_data in range(n_data):\n",
        "  data_in = np.random.normal(size=(1,1))\n",
        "  y = np.zeros((1,1))\n",
        "  net_output, all_f, all_h = compute_network_output(data_in, all_weights, all_biases)\n",
        "  all_dl_dweights, all_dl_dbiases, all_dl_dh, all_dl_df = backward_pass(all_weights, all_biases, all_f, all_h, y)\n",
        "  for layer in range(1,K):\n",
        "    aggregate_dl_df[layer][:,c_data] = np.squeeze(all_dl_df[layer])\n",
        "\n",
        "for layer in range(1,K):\n",
        "  print(\"Layer %d, std of dl_dh = %3.3f\"%(layer, np.std(aggregate_dl_df[layer].ravel())))\n"
      ],
      "metadata": {
        "colab": {
          "base_uri": "https://localhost:8080/"
        },
        "id": "7_TYYONIpU_p",
        "outputId": "780046e7-4227-4c9b-ae22-af3499e0ef6b"
      },
      "execution_count": 33,
      "outputs": [
        {
          "output_type": "stream",
          "name": "stdout",
          "text": [
            "Using std of 1.4142135623730951 for input layer\n",
            "Using std of 0.15811388300841897 for layer 1\n",
            "Using std of 0.15811388300841897 for layer 2\n",
            "Using std of 0.15811388300841897 for layer 3\n",
            "Using std of 0.15811388300841897 for layer 4\n",
            "Using std of 0.15811388300841897 for layer 5\n",
            "Using std of 0.15811388300841897 for layer 6\n",
            "Using std of 0.15811388300841897 for layer 7\n",
            "Using std of 0.15811388300841897 for layer 8\n",
            "Using std of 0.15811388300841897 for layer 9\n",
            "Using std of 0.15811388300841897 for layer 10\n",
            "Using std of 0.15811388300841897 for layer 11\n",
            "Using std of 0.15811388300841897 for layer 12\n",
            "Using std of 0.15811388300841897 for layer 13\n",
            "Using std of 0.15811388300841897 for layer 14\n",
            "Using std of 0.15811388300841897 for layer 15\n",
            "Using std of 0.15811388300841897 for layer 16\n",
            "Using std of 0.15811388300841897 for layer 17\n",
            "Using std of 0.15811388300841897 for layer 18\n",
            "Using std of 0.15811388300841897 for layer 19\n",
            "Using std of 0.15811388300841897 for layer 20\n",
            "Using std of 0.15811388300841897 for layer 21\n",
            "Using std of 0.15811388300841897 for layer 22\n",
            "Using std of 0.15811388300841897 for layer 23\n",
            "Using std of 0.15811388300841897 for layer 24\n",
            "Using std of 0.15811388300841897 for layer 25\n",
            "Using std of 0.15811388300841897 for layer 26\n",
            "Using std of 0.15811388300841897 for layer 27\n",
            "Using std of 0.15811388300841897 for layer 28\n",
            "Using std of 0.15811388300841897 for layer 29\n",
            "Using std of 0.15811388300841897 for layer 30\n",
            "Using std of 0.15811388300841897 for layer 31\n",
            "Using std of 0.15811388300841897 for layer 32\n",
            "Using std of 0.15811388300841897 for layer 33\n",
            "Using std of 0.15811388300841897 for layer 34\n",
            "Using std of 0.15811388300841897 for layer 35\n",
            "Using std of 0.15811388300841897 for layer 36\n",
            "Using std of 0.15811388300841897 for layer 37\n",
            "Using std of 0.15811388300841897 for layer 38\n",
            "Using std of 0.15811388300841897 for layer 39\n",
            "Using std of 0.15811388300841897 for layer 40\n",
            "Using std of 0.15811388300841897 for layer 41\n",
            "Using std of 0.15811388300841897 for layer 42\n",
            "Using std of 0.15811388300841897 for layer 43\n",
            "Using std of 0.15811388300841897 for layer 44\n",
            "Using std of 0.15811388300841897 for layer 45\n",
            "Using std of 0.15811388300841897 for layer 46\n",
            "Using std of 0.15811388300841897 for layer 47\n",
            "Using std of 0.15811388300841897 for layer 48\n",
            "Using std of 0.15811388300841897 for layer 49\n",
            "Layer 1, std of dl_dh = 0.273\n",
            "Layer 2, std of dl_dh = 0.288\n",
            "Layer 3, std of dl_dh = 0.328\n",
            "Layer 4, std of dl_dh = 0.322\n",
            "Layer 5, std of dl_dh = 0.300\n",
            "Layer 6, std of dl_dh = 0.312\n",
            "Layer 7, std of dl_dh = 0.326\n",
            "Layer 8, std of dl_dh = 0.292\n",
            "Layer 9, std of dl_dh = 0.293\n",
            "Layer 10, std of dl_dh = 0.333\n",
            "Layer 11, std of dl_dh = 0.340\n",
            "Layer 12, std of dl_dh = 0.342\n",
            "Layer 13, std of dl_dh = 0.312\n",
            "Layer 14, std of dl_dh = 0.324\n",
            "Layer 15, std of dl_dh = 0.340\n",
            "Layer 16, std of dl_dh = 0.309\n",
            "Layer 17, std of dl_dh = 0.264\n",
            "Layer 18, std of dl_dh = 0.268\n",
            "Layer 19, std of dl_dh = 0.240\n",
            "Layer 20, std of dl_dh = 0.295\n",
            "Layer 21, std of dl_dh = 0.271\n",
            "Layer 22, std of dl_dh = 0.240\n",
            "Layer 23, std of dl_dh = 0.249\n",
            "Layer 24, std of dl_dh = 0.218\n",
            "Layer 25, std of dl_dh = 0.224\n",
            "Layer 26, std of dl_dh = 0.312\n",
            "Layer 27, std of dl_dh = 0.259\n",
            "Layer 28, std of dl_dh = 0.287\n",
            "Layer 29, std of dl_dh = 0.310\n",
            "Layer 30, std of dl_dh = 0.335\n",
            "Layer 31, std of dl_dh = 0.343\n",
            "Layer 32, std of dl_dh = 0.332\n",
            "Layer 33, std of dl_dh = 0.351\n",
            "Layer 34, std of dl_dh = 0.395\n",
            "Layer 35, std of dl_dh = 0.368\n",
            "Layer 36, std of dl_dh = 0.373\n",
            "Layer 37, std of dl_dh = 0.329\n",
            "Layer 38, std of dl_dh = 0.317\n",
            "Layer 39, std of dl_dh = 0.283\n",
            "Layer 40, std of dl_dh = 0.317\n",
            "Layer 41, std of dl_dh = 0.314\n",
            "Layer 42, std of dl_dh = 0.378\n",
            "Layer 43, std of dl_dh = 0.415\n",
            "Layer 44, std of dl_dh = 0.454\n",
            "Layer 45, std of dl_dh = 0.490\n",
            "Layer 46, std of dl_dh = 0.470\n",
            "Layer 47, std of dl_dh = 0.480\n",
            "Layer 48, std of dl_dh = 0.440\n",
            "Layer 49, std of dl_dh = 0.374\n"
          ]
        }
      ]
    }
  ]
}