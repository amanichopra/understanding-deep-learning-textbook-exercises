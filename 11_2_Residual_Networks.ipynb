{
  "nbformat": 4,
  "nbformat_minor": 0,
  "metadata": {
    "colab": {
      "provenance": [],
      "include_colab_link": true
    },
    "kernelspec": {
      "name": "python3",
      "display_name": "Python 3"
    },
    "language_info": {
      "name": "python"
    }
  },
  "cells": [
    {
      "cell_type": "markdown",
      "metadata": {
        "id": "view-in-github",
        "colab_type": "text"
      },
      "source": [
        "<a href=\"https://colab.research.google.com/github/amanichopra/understanding-deep-learning-textbook-exercises/blob/main/11_2_Residual_Networks.ipynb\" target=\"_parent\"><img src=\"https://colab.research.google.com/assets/colab-badge.svg\" alt=\"Open In Colab\"/></a>"
      ]
    },
    {
      "cell_type": "markdown",
      "source": [
        "# **Notebook 11.2: Residual Networks**\n",
        "\n",
        "This notebook adapts the networks for MNIST1D to use residual connections.\n",
        "\n",
        "Work through the cells below, running each cell in turn. In various places you will see the words \"TODO\". Follow the instructions at these places and make predictions about what is going to happen or write code to complete the functions.\n",
        "\n",
        "Contact me at udlbookmail@gmail.com if you find any mistakes or have any suggestions.\n",
        "\n"
      ],
      "metadata": {
        "id": "t9vk9Elugvmi"
      }
    },
    {
      "cell_type": "code",
      "source": [
        "# Run this if you're in a Colab to install MNIST 1D repository\n",
        "!pip install git+https://github.com/greydanus/mnist1d"
      ],
      "metadata": {
        "id": "D5yLObtZCi9J",
        "colab": {
          "base_uri": "https://localhost:8080/"
        },
        "outputId": "05e662a8-0ef4-4fe0-fdb0-a87a2cbf34c5"
      },
      "execution_count": null,
      "outputs": [
        {
          "output_type": "stream",
          "name": "stdout",
          "text": [
            "Collecting git+https://github.com/greydanus/mnist1d\n",
            "  Cloning https://github.com/greydanus/mnist1d to /tmp/pip-req-build-i91ohkcv\n",
            "  Running command git clone --filter=blob:none --quiet https://github.com/greydanus/mnist1d /tmp/pip-req-build-i91ohkcv\n",
            "  Resolved https://github.com/greydanus/mnist1d to commit 7878d96082abd200c546a07a4101fa90b30fdf7e\n",
            "  Installing build dependencies ... \u001b[?25l\u001b[?25hdone\n",
            "  Getting requirements to build wheel ... \u001b[?25l\u001b[?25hdone\n",
            "  Preparing metadata (pyproject.toml) ... \u001b[?25l\u001b[?25hdone\n",
            "Requirement already satisfied: requests in /usr/local/lib/python3.12/dist-packages (from mnist1d==0.0.2.post16) (2.32.4)\n",
            "Requirement already satisfied: numpy in /usr/local/lib/python3.12/dist-packages (from mnist1d==0.0.2.post16) (2.0.2)\n",
            "Requirement already satisfied: matplotlib in /usr/local/lib/python3.12/dist-packages (from mnist1d==0.0.2.post16) (3.10.0)\n",
            "Requirement already satisfied: scipy in /usr/local/lib/python3.12/dist-packages (from mnist1d==0.0.2.post16) (1.16.2)\n",
            "Requirement already satisfied: contourpy>=1.0.1 in /usr/local/lib/python3.12/dist-packages (from matplotlib->mnist1d==0.0.2.post16) (1.3.3)\n",
            "Requirement already satisfied: cycler>=0.10 in /usr/local/lib/python3.12/dist-packages (from matplotlib->mnist1d==0.0.2.post16) (0.12.1)\n",
            "Requirement already satisfied: fonttools>=4.22.0 in /usr/local/lib/python3.12/dist-packages (from matplotlib->mnist1d==0.0.2.post16) (4.60.0)\n",
            "Requirement already satisfied: kiwisolver>=1.3.1 in /usr/local/lib/python3.12/dist-packages (from matplotlib->mnist1d==0.0.2.post16) (1.4.9)\n",
            "Requirement already satisfied: packaging>=20.0 in /usr/local/lib/python3.12/dist-packages (from matplotlib->mnist1d==0.0.2.post16) (25.0)\n",
            "Requirement already satisfied: pillow>=8 in /usr/local/lib/python3.12/dist-packages (from matplotlib->mnist1d==0.0.2.post16) (11.3.0)\n",
            "Requirement already satisfied: pyparsing>=2.3.1 in /usr/local/lib/python3.12/dist-packages (from matplotlib->mnist1d==0.0.2.post16) (3.2.4)\n",
            "Requirement already satisfied: python-dateutil>=2.7 in /usr/local/lib/python3.12/dist-packages (from matplotlib->mnist1d==0.0.2.post16) (2.9.0.post0)\n",
            "Requirement already satisfied: charset_normalizer<4,>=2 in /usr/local/lib/python3.12/dist-packages (from requests->mnist1d==0.0.2.post16) (3.4.3)\n",
            "Requirement already satisfied: idna<4,>=2.5 in /usr/local/lib/python3.12/dist-packages (from requests->mnist1d==0.0.2.post16) (3.10)\n",
            "Requirement already satisfied: urllib3<3,>=1.21.1 in /usr/local/lib/python3.12/dist-packages (from requests->mnist1d==0.0.2.post16) (2.5.0)\n",
            "Requirement already satisfied: certifi>=2017.4.17 in /usr/local/lib/python3.12/dist-packages (from requests->mnist1d==0.0.2.post16) (2025.8.3)\n",
            "Requirement already satisfied: six>=1.5 in /usr/local/lib/python3.12/dist-packages (from python-dateutil>=2.7->matplotlib->mnist1d==0.0.2.post16) (1.17.0)\n",
            "Building wheels for collected packages: mnist1d\n",
            "  Building wheel for mnist1d (pyproject.toml) ... \u001b[?25l\u001b[?25hdone\n",
            "  Created wheel for mnist1d: filename=mnist1d-0.0.2.post16-py3-none-any.whl size=14665 sha256=5262c29b4729a63ac9a01629d62e634a9bfd9b19607abd6e6654d0756e04b4f3\n",
            "  Stored in directory: /tmp/pip-ephem-wheel-cache-rvcg9ma3/wheels/18/40/b6/29381fee9b4c80fdbc304d52bb065a7286bbcca5ca2b8737c0\n",
            "Successfully built mnist1d\n",
            "Installing collected packages: mnist1d\n",
            "Successfully installed mnist1d-0.0.2.post16\n"
          ]
        }
      ]
    },
    {
      "cell_type": "code",
      "source": [
        "import numpy as np\n",
        "import os\n",
        "import torch, torch.nn as nn\n",
        "from torch.utils.data import TensorDataset, DataLoader\n",
        "from torch.optim.lr_scheduler import StepLR\n",
        "import matplotlib.pyplot as plt\n",
        "import mnist1d\n",
        "import random"
      ],
      "metadata": {
        "id": "YrXWAH7sUWvU"
      },
      "execution_count": null,
      "outputs": []
    },
    {
      "cell_type": "code",
      "source": [
        "args = mnist1d.data.get_dataset_args()\n",
        "data = mnist1d.data.get_dataset(args, path='./mnist1d_data.pkl', download=False, regenerate=False)\n",
        "\n",
        "# The training and test input and outputs are in\n",
        "# data['x'], data['y'], data['x_test'], and data['y_test']\n",
        "print(\"Examples in training set: {}\".format(len(data['y'])))\n",
        "print(\"Examples in test set: {}\".format(len(data['y_test'])))\n",
        "print(\"Length of each example: {}\".format(data['x'].shape[-1]))"
      ],
      "metadata": {
        "id": "twI72ZCrCt5z",
        "colab": {
          "base_uri": "https://localhost:8080/"
        },
        "outputId": "5684645d-feaf-426d-935c-f650a6fffb50"
      },
      "execution_count": null,
      "outputs": [
        {
          "output_type": "stream",
          "name": "stdout",
          "text": [
            "Successfully loaded data from ./mnist1d_data.pkl\n",
            "Examples in training set: 4000\n",
            "Examples in test set: 1000\n",
            "Length of each example: 40\n"
          ]
        }
      ]
    },
    {
      "cell_type": "code",
      "source": [
        "# Load in the data\n",
        "train_data_x = data['x'].transpose()\n",
        "train_data_y = data['y']\n",
        "val_data_x = data['x_test'].transpose()\n",
        "val_data_y = data['y_test']\n",
        "# Print out sizes\n",
        "print(\"Train data: %d examples (columns), each of which has %d dimensions (rows)\"%((train_data_x.shape[1],train_data_x.shape[0])))\n",
        "print(\"Validation data: %d examples (columns), each of which has %d dimensions (rows)\"%((val_data_x.shape[1],val_data_x.shape[0])))"
      ],
      "metadata": {
        "id": "8bKADvLHbiV5",
        "colab": {
          "base_uri": "https://localhost:8080/"
        },
        "outputId": "46b43bc5-bd35-44de-b096-baa04690e7c5"
      },
      "execution_count": null,
      "outputs": [
        {
          "output_type": "stream",
          "name": "stdout",
          "text": [
            "Train data: 4000 examples (columns), each of which has 40 dimensions (rows)\n",
            "Validation data: 1000 examples (columns), each of which has 40 dimensions (rows)\n"
          ]
        }
      ]
    },
    {
      "cell_type": "markdown",
      "source": [
        "Define the network"
      ],
      "metadata": {
        "id": "_sFvRDGrl4qe"
      }
    },
    {
      "cell_type": "code",
      "source": [
        "# There are 40 input dimensions and 10 output dimensions for this data\n",
        "# The inputs correspond to the 40 offsets in the MNIST1D template.\n",
        "D_i = 40\n",
        "# The outputs correspond to the 10 digits\n",
        "D_o = 10\n",
        "\n",
        "\n",
        "# We will adapt this model to have residual connections around the linear layers\n",
        "# This is the same model we used in practical 8.1, but we can't use the sequential\n",
        "# class for residual networks (which aren't strictly sequential).  Hence, I've rewritten\n",
        "# it as a model that inherits from a base class\n",
        "\n",
        "class ResidualNetwork(torch.nn.Module):\n",
        "  def __init__(self, input_size, output_size, hidden_size=100):\n",
        "    super(ResidualNetwork, self).__init__()\n",
        "    self.linear1 = nn.Linear(input_size, hidden_size)\n",
        "    self.linear2 = nn.Linear(hidden_size, hidden_size)\n",
        "    self.linear3 = nn.Linear(hidden_size, hidden_size)\n",
        "    self.linear4 = nn.Linear(hidden_size, output_size)\n",
        "    print(\"Initialized MLPBase model with {} parameters\".format(self.count_params()))\n",
        "\n",
        "  def count_params(self):\n",
        "    return sum([p.view(-1).shape[0] for p in self.parameters()])\n",
        "\n",
        "# TODO -- Add residual connections to this model\n",
        "# The order of operations within each block should similar to figure 11.5b\n",
        "# ie., linear1 first, ReLU+linear2 in first residual block, ReLU+linear3 in second residual block), linear4 at end\n",
        "# Replace this function\n",
        "  def forward(self, x):\n",
        "    # First projection\n",
        "    h1 = self.linear1(x)\n",
        "\n",
        "    # Residual block 1: (h1 -> ReLU -> linear2 -> add skip)\n",
        "    z2 = self.linear2(h1.relu())\n",
        "    h2 = h1 + z2\n",
        "\n",
        "    # Residual block 2: (h2 -> ReLU -> linear3 -> add skip)\n",
        "    z3 = self.linear3(h2.relu())\n",
        "    h3 = h2 + z3\n",
        "\n",
        "    # Final output layer\n",
        "    out = self.linear4(h3)\n",
        "    return out\n",
        "\n",
        "class PlainNetwork(nn.Module):\n",
        "  def __init__(self, input_size, output_size, hidden_size=100):\n",
        "    super(PlainNetwork, self).__init__()\n",
        "    self.linear1 = nn.Linear(input_size, hidden_size)\n",
        "    self.linear2 = nn.Linear(hidden_size, hidden_size)\n",
        "    self.linear3 = nn.Linear(hidden_size, hidden_size)\n",
        "    self.linear4 = nn.Linear(hidden_size, output_size)\n",
        "    print(\"Initialized Plain MLP model with {} parameters\".format(self.count_params()))\n",
        "\n",
        "  def count_params(self):\n",
        "    return sum([p.view(-1).shape[0] for p in self.parameters()])\n",
        "\n",
        "  def forward(self, x):\n",
        "    # Layer 1\n",
        "    h1 = self.linear1(x).relu()\n",
        "    # Layer 2\n",
        "    h2 = self.linear2(h1).relu()\n",
        "    # Layer 3\n",
        "    h3 = self.linear3(h2).relu()\n",
        "    # Output layer\n",
        "    out = self.linear4(h3)\n",
        "    return out\n"
      ],
      "metadata": {
        "id": "FslroPJJffrh"
      },
      "execution_count": null,
      "outputs": []
    },
    {
      "cell_type": "code",
      "source": [
        "# He initialization of weights\n",
        "def weights_init(layer_in):\n",
        "  if isinstance(layer_in, nn.Linear):\n",
        "    nn.init.kaiming_uniform_(layer_in.weight)\n",
        "    layer_in.bias.data.fill_(0.0)"
      ],
      "metadata": {
        "id": "YgLaex1pfhqz"
      },
      "execution_count": null,
      "outputs": []
    },
    {
      "cell_type": "code",
      "source": [
        "#Define the model\n",
        "model = ResidualNetwork(40, 10)\n",
        "\n",
        "# choose cross entropy loss function (equation 5.24 in the loss notes)\n",
        "loss_function = nn.CrossEntropyLoss()\n",
        "# construct SGD optimizer and initialize learning rate and momentum\n",
        "optimizer = torch.optim.SGD(model.parameters(), lr = 0.05, momentum=0.9)\n",
        "# object that decreases learning rate by half every 20 epochs\n",
        "scheduler = StepLR(optimizer, step_size=20, gamma=0.5)\n",
        "# convert data to torch tensors\n",
        "x_train = torch.tensor(train_data_x.transpose().astype('float32'))\n",
        "y_train = torch.tensor(train_data_y.astype('long'))\n",
        "x_val= torch.tensor(val_data_x.transpose().astype('float32'))\n",
        "y_val = torch.tensor(val_data_y.astype('long'))\n",
        "\n",
        "# load the data into a class that creates the batches\n",
        "data_loader = DataLoader(TensorDataset(x_train,y_train), batch_size=100, shuffle=True, worker_init_fn=np.random.seed(1))\n",
        "\n",
        "# Initialize model weights\n",
        "model.apply(weights_init)\n",
        "\n",
        "# loop over the dataset n_epoch times\n",
        "n_epoch = 100\n",
        "# store the loss and the % correct at each epoch\n",
        "losses_train = np.zeros((n_epoch))\n",
        "errors_train = np.zeros((n_epoch))\n",
        "losses_val = np.zeros((n_epoch))\n",
        "errors_val = np.zeros((n_epoch))\n",
        "\n",
        "for epoch in range(n_epoch):\n",
        "  # loop over batches\n",
        "  for i, data in enumerate(data_loader):\n",
        "    # retrieve inputs and labels for this batch\n",
        "    x_batch, y_batch = data\n",
        "    # zero the parameter gradients\n",
        "    optimizer.zero_grad()\n",
        "    # forward pass -- calculate model output\n",
        "    pred = model(x_batch)\n",
        "    # compute the loss\n",
        "    loss = loss_function(pred, y_batch)\n",
        "    # backward pass\n",
        "    loss.backward()\n",
        "    # SGD update\n",
        "    optimizer.step()\n",
        "\n",
        "  # Run whole dataset to get statistics -- normally wouldn't do this\n",
        "  pred_train = model(x_train)\n",
        "  pred_val = model(x_val)\n",
        "  _, predicted_train_class = torch.max(pred_train.data, 1)\n",
        "  _, predicted_val_class = torch.max(pred_val.data, 1)\n",
        "  errors_train[epoch] = 100 - 100 * (predicted_train_class == y_train).float().sum() / len(y_train)\n",
        "  errors_val[epoch]= 100 - 100 * (predicted_val_class == y_val).float().sum() / len(y_val)\n",
        "  losses_train[epoch] = loss_function(pred_train, y_train).item()\n",
        "  losses_val[epoch]= loss_function(pred_val, y_val).item()\n",
        "  print(f'Epoch {epoch:5d}, train loss {losses_train[epoch]:.6f}, train error {errors_train[epoch]:3.2f},  val loss {losses_val[epoch]:.6f}, percent error {errors_val[epoch]:3.2f}')\n",
        "\n",
        "  # tell scheduler to consider updating learning rate\n",
        "  scheduler.step()"
      ],
      "metadata": {
        "id": "NYw8I_3mmX5c",
        "colab": {
          "base_uri": "https://localhost:8080/"
        },
        "outputId": "46d8277f-d367-4a8f-b59f-ccd8dbdbc110"
      },
      "execution_count": null,
      "outputs": [
        {
          "output_type": "stream",
          "name": "stdout",
          "text": [
            "Initialized MLPBase model with 25310 parameters\n",
            "Epoch     0, train loss 1.627818, train error 61.45,  val loss 1.705427, percent error 65.10\n",
            "Epoch     1, train loss 1.203614, train error 44.95,  val loss 1.317375, percent error 50.70\n",
            "Epoch     2, train loss 1.004474, train error 38.75,  val loss 1.200951, percent error 46.40\n",
            "Epoch     3, train loss 0.860093, train error 32.12,  val loss 1.085730, percent error 42.20\n",
            "Epoch     4, train loss 0.784478, train error 29.82,  val loss 1.086467, percent error 41.50\n",
            "Epoch     5, train loss 0.706086, train error 26.90,  val loss 1.097904, percent error 44.70\n",
            "Epoch     6, train loss 0.628480, train error 23.68,  val loss 1.104413, percent error 40.10\n",
            "Epoch     7, train loss 0.648386, train error 24.22,  val loss 1.139035, percent error 40.10\n",
            "Epoch     8, train loss 0.581750, train error 21.85,  val loss 1.102227, percent error 37.30\n",
            "Epoch     9, train loss 0.486987, train error 18.12,  val loss 1.129786, percent error 38.00\n",
            "Epoch    10, train loss 0.530484, train error 20.07,  val loss 1.277359, percent error 40.60\n",
            "Epoch    11, train loss 0.509228, train error 19.93,  val loss 1.390113, percent error 39.20\n",
            "Epoch    12, train loss 0.499822, train error 18.50,  val loss 1.352701, percent error 37.60\n",
            "Epoch    13, train loss 0.479081, train error 17.38,  val loss 1.401571, percent error 37.80\n",
            "Epoch    14, train loss 0.299613, train error 11.78,  val loss 1.208667, percent error 34.90\n",
            "Epoch    15, train loss 0.248808, train error 9.00,  val loss 1.251366, percent error 35.00\n",
            "Epoch    16, train loss 0.280240, train error 10.47,  val loss 1.492942, percent error 38.40\n",
            "Epoch    17, train loss 0.287530, train error 10.57,  val loss 1.525707, percent error 35.90\n",
            "Epoch    18, train loss 0.293810, train error 10.30,  val loss 1.528047, percent error 36.30\n",
            "Epoch    19, train loss 0.318862, train error 10.82,  val loss 1.454936, percent error 32.90\n",
            "Epoch    20, train loss 0.096051, train error 2.68,  val loss 1.296590, percent error 32.00\n",
            "Epoch    21, train loss 0.046400, train error 0.85,  val loss 1.257734, percent error 31.70\n",
            "Epoch    22, train loss 0.027738, train error 0.28,  val loss 1.329291, percent error 31.10\n",
            "Epoch    23, train loss 0.018286, train error 0.05,  val loss 1.356153, percent error 31.90\n",
            "Epoch    24, train loss 0.013871, train error 0.00,  val loss 1.380576, percent error 30.60\n",
            "Epoch    25, train loss 0.011563, train error 0.00,  val loss 1.415407, percent error 31.10\n",
            "Epoch    26, train loss 0.010118, train error 0.00,  val loss 1.440934, percent error 30.60\n",
            "Epoch    27, train loss 0.008515, train error 0.00,  val loss 1.466755, percent error 31.50\n",
            "Epoch    28, train loss 0.007495, train error 0.00,  val loss 1.479078, percent error 31.70\n",
            "Epoch    29, train loss 0.006766, train error 0.00,  val loss 1.503195, percent error 31.90\n",
            "Epoch    30, train loss 0.006128, train error 0.00,  val loss 1.518838, percent error 31.50\n",
            "Epoch    31, train loss 0.005643, train error 0.00,  val loss 1.533819, percent error 31.30\n",
            "Epoch    32, train loss 0.005238, train error 0.00,  val loss 1.554203, percent error 31.20\n",
            "Epoch    33, train loss 0.004832, train error 0.00,  val loss 1.568373, percent error 31.30\n",
            "Epoch    34, train loss 0.004511, train error 0.00,  val loss 1.580961, percent error 31.10\n",
            "Epoch    35, train loss 0.004262, train error 0.00,  val loss 1.596433, percent error 31.40\n",
            "Epoch    36, train loss 0.003983, train error 0.00,  val loss 1.606223, percent error 31.50\n",
            "Epoch    37, train loss 0.003760, train error 0.00,  val loss 1.618047, percent error 31.30\n",
            "Epoch    38, train loss 0.003562, train error 0.00,  val loss 1.630835, percent error 31.50\n",
            "Epoch    39, train loss 0.003382, train error 0.00,  val loss 1.638308, percent error 31.60\n",
            "Epoch    40, train loss 0.003294, train error 0.00,  val loss 1.644950, percent error 31.60\n",
            "Epoch    41, train loss 0.003215, train error 0.00,  val loss 1.649392, percent error 31.50\n",
            "Epoch    42, train loss 0.003141, train error 0.00,  val loss 1.655142, percent error 31.50\n",
            "Epoch    43, train loss 0.003068, train error 0.00,  val loss 1.660090, percent error 31.40\n",
            "Epoch    44, train loss 0.003001, train error 0.00,  val loss 1.664239, percent error 31.60\n",
            "Epoch    45, train loss 0.002935, train error 0.00,  val loss 1.669293, percent error 31.40\n",
            "Epoch    46, train loss 0.002873, train error 0.00,  val loss 1.672834, percent error 31.30\n",
            "Epoch    47, train loss 0.002813, train error 0.00,  val loss 1.676976, percent error 31.50\n",
            "Epoch    48, train loss 0.002756, train error 0.00,  val loss 1.682066, percent error 31.40\n",
            "Epoch    49, train loss 0.002698, train error 0.00,  val loss 1.686467, percent error 31.40\n",
            "Epoch    50, train loss 0.002645, train error 0.00,  val loss 1.690726, percent error 31.50\n",
            "Epoch    51, train loss 0.002593, train error 0.00,  val loss 1.694316, percent error 31.30\n",
            "Epoch    52, train loss 0.002544, train error 0.00,  val loss 1.698815, percent error 31.30\n",
            "Epoch    53, train loss 0.002495, train error 0.00,  val loss 1.703443, percent error 31.30\n",
            "Epoch    54, train loss 0.002449, train error 0.00,  val loss 1.706551, percent error 31.20\n",
            "Epoch    55, train loss 0.002404, train error 0.00,  val loss 1.710809, percent error 31.30\n",
            "Epoch    56, train loss 0.002361, train error 0.00,  val loss 1.715456, percent error 31.10\n",
            "Epoch    57, train loss 0.002320, train error 0.00,  val loss 1.718829, percent error 31.60\n",
            "Epoch    58, train loss 0.002279, train error 0.00,  val loss 1.722188, percent error 31.40\n",
            "Epoch    59, train loss 0.002241, train error 0.00,  val loss 1.726170, percent error 31.20\n",
            "Epoch    60, train loss 0.002222, train error 0.00,  val loss 1.728015, percent error 31.10\n",
            "Epoch    61, train loss 0.002203, train error 0.00,  val loss 1.729929, percent error 31.20\n",
            "Epoch    62, train loss 0.002184, train error 0.00,  val loss 1.732197, percent error 31.10\n",
            "Epoch    63, train loss 0.002166, train error 0.00,  val loss 1.733630, percent error 31.10\n",
            "Epoch    64, train loss 0.002148, train error 0.00,  val loss 1.735666, percent error 31.10\n",
            "Epoch    65, train loss 0.002132, train error 0.00,  val loss 1.736830, percent error 31.30\n",
            "Epoch    66, train loss 0.002114, train error 0.00,  val loss 1.738816, percent error 31.10\n",
            "Epoch    67, train loss 0.002097, train error 0.00,  val loss 1.740735, percent error 31.20\n",
            "Epoch    68, train loss 0.002081, train error 0.00,  val loss 1.742163, percent error 31.20\n",
            "Epoch    69, train loss 0.002064, train error 0.00,  val loss 1.744093, percent error 31.20\n",
            "Epoch    70, train loss 0.002048, train error 0.00,  val loss 1.745778, percent error 31.30\n",
            "Epoch    71, train loss 0.002032, train error 0.00,  val loss 1.747022, percent error 31.10\n",
            "Epoch    72, train loss 0.002017, train error 0.00,  val loss 1.749149, percent error 31.20\n",
            "Epoch    73, train loss 0.002001, train error 0.00,  val loss 1.750663, percent error 31.10\n",
            "Epoch    74, train loss 0.001986, train error 0.00,  val loss 1.752273, percent error 31.30\n",
            "Epoch    75, train loss 0.001971, train error 0.00,  val loss 1.753640, percent error 31.20\n",
            "Epoch    76, train loss 0.001956, train error 0.00,  val loss 1.755607, percent error 31.20\n",
            "Epoch    77, train loss 0.001942, train error 0.00,  val loss 1.757412, percent error 31.20\n",
            "Epoch    78, train loss 0.001927, train error 0.00,  val loss 1.759019, percent error 31.30\n",
            "Epoch    79, train loss 0.001913, train error 0.00,  val loss 1.760397, percent error 31.40\n",
            "Epoch    80, train loss 0.001906, train error 0.00,  val loss 1.761234, percent error 31.20\n",
            "Epoch    81, train loss 0.001899, train error 0.00,  val loss 1.761926, percent error 31.30\n",
            "Epoch    82, train loss 0.001892, train error 0.00,  val loss 1.762782, percent error 31.20\n",
            "Epoch    83, train loss 0.001885, train error 0.00,  val loss 1.763520, percent error 31.30\n",
            "Epoch    84, train loss 0.001878, train error 0.00,  val loss 1.764429, percent error 31.20\n",
            "Epoch    85, train loss 0.001872, train error 0.00,  val loss 1.765119, percent error 31.30\n",
            "Epoch    86, train loss 0.001865, train error 0.00,  val loss 1.766009, percent error 31.20\n",
            "Epoch    87, train loss 0.001858, train error 0.00,  val loss 1.766560, percent error 31.20\n",
            "Epoch    88, train loss 0.001852, train error 0.00,  val loss 1.767389, percent error 31.20\n",
            "Epoch    89, train loss 0.001845, train error 0.00,  val loss 1.768184, percent error 31.30\n",
            "Epoch    90, train loss 0.001839, train error 0.00,  val loss 1.768904, percent error 31.20\n",
            "Epoch    91, train loss 0.001832, train error 0.00,  val loss 1.769709, percent error 31.20\n",
            "Epoch    92, train loss 0.001826, train error 0.00,  val loss 1.770345, percent error 31.20\n",
            "Epoch    93, train loss 0.001819, train error 0.00,  val loss 1.771149, percent error 31.30\n",
            "Epoch    94, train loss 0.001813, train error 0.00,  val loss 1.771920, percent error 31.20\n",
            "Epoch    95, train loss 0.001807, train error 0.00,  val loss 1.772631, percent error 31.30\n",
            "Epoch    96, train loss 0.001800, train error 0.00,  val loss 1.773315, percent error 31.20\n",
            "Epoch    97, train loss 0.001794, train error 0.00,  val loss 1.774266, percent error 31.20\n",
            "Epoch    98, train loss 0.001788, train error 0.00,  val loss 1.774835, percent error 31.30\n",
            "Epoch    99, train loss 0.001782, train error 0.00,  val loss 1.775482, percent error 31.30\n"
          ]
        }
      ]
    },
    {
      "cell_type": "code",
      "source": [
        "# Plot the results\n",
        "fig, ax = plt.subplots()\n",
        "ax.plot(errors_train,'r-',label='train')\n",
        "ax.plot(errors_val,'b-',label='test')\n",
        "ax.set_ylim(0,100); ax.set_xlim(0,n_epoch)\n",
        "ax.set_xlabel('Epoch'); ax.set_ylabel('Error')\n",
        "ax.set_title('TrainError %3.2f, Val Error %3.2f'%(errors_train[-1],errors_val[-1]))\n",
        "ax.legend()\n",
        "plt.show()"
      ],
      "metadata": {
        "id": "CcP_VyEmE2sv",
        "colab": {
          "base_uri": "https://localhost:8080/",
          "height": 472
        },
        "outputId": "0874b4d2-a1b4-4d95-8d59-79db133162eb"
      },
      "execution_count": null,
      "outputs": [
        {
          "output_type": "display_data",
          "data": {
            "text/plain": [
              "<Figure size 640x480 with 1 Axes>"
            ],
            "image/png": "[encoded data removed]"
          },
          "metadata": {}
        }
      ]
    },
    {
      "cell_type": "markdown",
      "source": [
        "The primary motivation of residual networks is to allow training of much deeper networks.   \n",
        "\n",
        "TODO: Try running this network with and without the residual connections.  Does adding the residual connections change the performance?"
      ],
      "metadata": {
        "id": "wMmqhmxuAx0M"
      }
    },
    {
      "cell_type": "code",
      "source": [
        "#Define the model\n",
        "model = PlainNetwork(40, 10)\n",
        "\n",
        "# choose cross entropy loss function (equation 5.24 in the loss notes)\n",
        "loss_function = nn.CrossEntropyLoss()\n",
        "# construct SGD optimizer and initialize learning rate and momentum\n",
        "optimizer = torch.optim.SGD(model.parameters(), lr = 0.05, momentum=0.9)\n",
        "# object that decreases learning rate by half every 20 epochs\n",
        "scheduler = StepLR(optimizer, step_size=20, gamma=0.5)\n",
        "# convert data to torch tensors\n",
        "x_train = torch.tensor(train_data_x.transpose().astype('float32'))\n",
        "y_train = torch.tensor(train_data_y.astype('long'))\n",
        "x_val= torch.tensor(val_data_x.transpose().astype('float32'))\n",
        "y_val = torch.tensor(val_data_y.astype('long'))\n",
        "\n",
        "# load the data into a class that creates the batches\n",
        "data_loader = DataLoader(TensorDataset(x_train,y_train), batch_size=100, shuffle=True, worker_init_fn=np.random.seed(1))\n",
        "\n",
        "# Initialize model weights\n",
        "model.apply(weights_init)\n",
        "\n",
        "# loop over the dataset n_epoch times\n",
        "n_epoch = 100\n",
        "# store the loss and the % correct at each epoch\n",
        "losses_train = np.zeros((n_epoch))\n",
        "errors_train = np.zeros((n_epoch))\n",
        "losses_val = np.zeros((n_epoch))\n",
        "errors_val = np.zeros((n_epoch))\n",
        "\n",
        "for epoch in range(n_epoch):\n",
        "  # loop over batches\n",
        "  for i, data in enumerate(data_loader):\n",
        "    # retrieve inputs and labels for this batch\n",
        "    x_batch, y_batch = data\n",
        "    # zero the parameter gradients\n",
        "    optimizer.zero_grad()\n",
        "    # forward pass -- calculate model output\n",
        "    pred = model(x_batch)\n",
        "    # compute the loss\n",
        "    loss = loss_function(pred, y_batch)\n",
        "    # backward pass\n",
        "    loss.backward()\n",
        "    # SGD update\n",
        "    optimizer.step()\n",
        "\n",
        "  # Run whole dataset to get statistics -- normally wouldn't do this\n",
        "  pred_train = model(x_train)\n",
        "  pred_val = model(x_val)\n",
        "  _, predicted_train_class = torch.max(pred_train.data, 1)\n",
        "  _, predicted_val_class = torch.max(pred_val.data, 1)\n",
        "  errors_train[epoch] = 100 - 100 * (predicted_train_class == y_train).float().sum() / len(y_train)\n",
        "  errors_val[epoch]= 100 - 100 * (predicted_val_class == y_val).float().sum() / len(y_val)\n",
        "  losses_train[epoch] = loss_function(pred_train, y_train).item()\n",
        "  losses_val[epoch]= loss_function(pred_val, y_val).item()\n",
        "  print(f'Epoch {epoch:5d}, train loss {losses_train[epoch]:.6f}, train error {errors_train[epoch]:3.2f},  val loss {losses_val[epoch]:.6f}, percent error {errors_val[epoch]:3.2f}')\n",
        "\n",
        "  # tell scheduler to consider updating learning rate\n",
        "  scheduler.step()"
      ],
      "metadata": {
        "colab": {
          "base_uri": "https://localhost:8080/"
        },
        "id": "e4E9_M5hvHr1",
        "outputId": "6072ee7d-24b9-4ff8-d2e2-ced5730d3026"
      },
      "execution_count": null,
      "outputs": [
        {
          "output_type": "stream",
          "name": "stdout",
          "text": [
            "Initialized Plain MLP model with 25310 parameters\n",
            "Epoch     0, train loss 1.569546, train error 59.22,  val loss 1.650986, percent error 65.10\n",
            "Epoch     1, train loss 1.318426, train error 49.10,  val loss 1.486994, percent error 57.60\n",
            "Epoch     2, train loss 1.071216, train error 40.35,  val loss 1.283995, percent error 50.70\n",
            "Epoch     3, train loss 0.951934, train error 34.65,  val loss 1.228218, percent error 46.60\n",
            "Epoch     4, train loss 0.808696, train error 29.60,  val loss 1.132117, percent error 43.60\n",
            "Epoch     5, train loss 0.723048, train error 25.97,  val loss 1.120324, percent error 41.90\n",
            "Epoch     6, train loss 0.619846, train error 22.05,  val loss 1.090163, percent error 41.30\n",
            "Epoch     7, train loss 0.534560, train error 18.50,  val loss 1.060583, percent error 39.30\n",
            "Epoch     8, train loss 0.487003, train error 16.57,  val loss 1.137165, percent error 40.50\n",
            "Epoch     9, train loss 0.395844, train error 13.00,  val loss 1.061250, percent error 38.00\n",
            "Epoch    10, train loss 0.422323, train error 15.07,  val loss 1.215114, percent error 38.70\n",
            "Epoch    11, train loss 0.355259, train error 12.57,  val loss 1.187756, percent error 36.40\n",
            "Epoch    12, train loss 0.296945, train error 10.38,  val loss 1.134423, percent error 36.10\n",
            "Epoch    13, train loss 0.202457, train error 6.07,  val loss 1.153823, percent error 34.40\n",
            "Epoch    14, train loss 0.173491, train error 4.72,  val loss 1.232706, percent error 35.10\n",
            "Epoch    15, train loss 0.132442, train error 3.78,  val loss 1.238048, percent error 35.30\n",
            "Epoch    16, train loss 0.125755, train error 3.62,  val loss 1.293568, percent error 35.20\n",
            "Epoch    17, train loss 0.072833, train error 1.55,  val loss 1.332949, percent error 33.80\n",
            "Epoch    18, train loss 0.170228, train error 5.97,  val loss 1.627358, percent error 36.30\n",
            "Epoch    19, train loss 0.120065, train error 3.95,  val loss 1.640846, percent error 36.00\n",
            "Epoch    20, train loss 0.038029, train error 0.47,  val loss 1.408588, percent error 34.50\n",
            "Epoch    21, train loss 0.018837, train error 0.03,  val loss 1.400511, percent error 32.80\n",
            "Epoch    22, train loss 0.011615, train error 0.00,  val loss 1.415635, percent error 32.30\n",
            "Epoch    23, train loss 0.009215, train error 0.00,  val loss 1.450074, percent error 32.80\n",
            "Epoch    24, train loss 0.007882, train error 0.00,  val loss 1.471207, percent error 32.90\n",
            "Epoch    25, train loss 0.006976, train error 0.00,  val loss 1.495240, percent error 33.00\n",
            "Epoch    26, train loss 0.006382, train error 0.00,  val loss 1.517904, percent error 33.40\n",
            "Epoch    27, train loss 0.005742, train error 0.00,  val loss 1.528707, percent error 32.70\n",
            "Epoch    28, train loss 0.005290, train error 0.00,  val loss 1.545905, percent error 32.70\n",
            "Epoch    29, train loss 0.004895, train error 0.00,  val loss 1.560749, percent error 32.90\n",
            "Epoch    30, train loss 0.004593, train error 0.00,  val loss 1.568230, percent error 32.70\n",
            "Epoch    31, train loss 0.004290, train error 0.00,  val loss 1.580804, percent error 32.80\n",
            "Epoch    32, train loss 0.004048, train error 0.00,  val loss 1.593341, percent error 32.90\n",
            "Epoch    33, train loss 0.003845, train error 0.00,  val loss 1.604879, percent error 33.10\n",
            "Epoch    34, train loss 0.003645, train error 0.00,  val loss 1.615335, percent error 32.70\n",
            "Epoch    35, train loss 0.003465, train error 0.00,  val loss 1.625092, percent error 33.30\n",
            "Epoch    36, train loss 0.003299, train error 0.00,  val loss 1.629272, percent error 33.00\n",
            "Epoch    37, train loss 0.003160, train error 0.00,  val loss 1.637604, percent error 33.30\n",
            "Epoch    38, train loss 0.003022, train error 0.00,  val loss 1.647528, percent error 33.00\n",
            "Epoch    39, train loss 0.002898, train error 0.00,  val loss 1.652193, percent error 33.20\n",
            "Epoch    40, train loss 0.002837, train error 0.00,  val loss 1.656810, percent error 33.10\n",
            "Epoch    41, train loss 0.002782, train error 0.00,  val loss 1.659310, percent error 33.10\n",
            "Epoch    42, train loss 0.002732, train error 0.00,  val loss 1.664352, percent error 33.30\n",
            "Epoch    43, train loss 0.002680, train error 0.00,  val loss 1.667051, percent error 33.30\n",
            "Epoch    44, train loss 0.002633, train error 0.00,  val loss 1.670973, percent error 33.20\n",
            "Epoch    45, train loss 0.002587, train error 0.00,  val loss 1.674268, percent error 33.10\n",
            "Epoch    46, train loss 0.002540, train error 0.00,  val loss 1.678356, percent error 33.10\n",
            "Epoch    47, train loss 0.002498, train error 0.00,  val loss 1.680674, percent error 33.30\n",
            "Epoch    48, train loss 0.002456, train error 0.00,  val loss 1.685095, percent error 33.30\n",
            "Epoch    49, train loss 0.002416, train error 0.00,  val loss 1.687070, percent error 33.10\n",
            "Epoch    50, train loss 0.002376, train error 0.00,  val loss 1.691125, percent error 33.10\n",
            "Epoch    51, train loss 0.002338, train error 0.00,  val loss 1.693946, percent error 33.00\n",
            "Epoch    52, train loss 0.002301, train error 0.00,  val loss 1.697595, percent error 33.00\n",
            "Epoch    53, train loss 0.002265, train error 0.00,  val loss 1.699061, percent error 33.00\n",
            "Epoch    54, train loss 0.002231, train error 0.00,  val loss 1.702311, percent error 33.00\n",
            "Epoch    55, train loss 0.002199, train error 0.00,  val loss 1.705755, percent error 33.10\n",
            "Epoch    56, train loss 0.002164, train error 0.00,  val loss 1.708540, percent error 33.00\n",
            "Epoch    57, train loss 0.002133, train error 0.00,  val loss 1.711326, percent error 33.00\n",
            "Epoch    58, train loss 0.002101, train error 0.00,  val loss 1.714049, percent error 33.00\n",
            "Epoch    59, train loss 0.002071, train error 0.00,  val loss 1.716546, percent error 32.90\n",
            "Epoch    60, train loss 0.002056, train error 0.00,  val loss 1.717711, percent error 33.00\n",
            "Epoch    61, train loss 0.002042, train error 0.00,  val loss 1.719002, percent error 32.90\n",
            "Epoch    62, train loss 0.002028, train error 0.00,  val loss 1.720410, percent error 32.90\n",
            "Epoch    63, train loss 0.002014, train error 0.00,  val loss 1.722000, percent error 32.90\n",
            "Epoch    64, train loss 0.002000, train error 0.00,  val loss 1.723144, percent error 32.90\n",
            "Epoch    65, train loss 0.001986, train error 0.00,  val loss 1.724420, percent error 33.00\n",
            "Epoch    66, train loss 0.001973, train error 0.00,  val loss 1.725909, percent error 33.00\n",
            "Epoch    67, train loss 0.001960, train error 0.00,  val loss 1.727076, percent error 32.90\n",
            "Epoch    68, train loss 0.001946, train error 0.00,  val loss 1.728557, percent error 32.90\n",
            "Epoch    69, train loss 0.001934, train error 0.00,  val loss 1.729699, percent error 33.00\n",
            "Epoch    70, train loss 0.001921, train error 0.00,  val loss 1.730987, percent error 33.10\n",
            "Epoch    71, train loss 0.001908, train error 0.00,  val loss 1.732693, percent error 33.10\n",
            "Epoch    72, train loss 0.001896, train error 0.00,  val loss 1.733507, percent error 33.10\n",
            "Epoch    73, train loss 0.001884, train error 0.00,  val loss 1.735034, percent error 32.90\n",
            "Epoch    74, train loss 0.001871, train error 0.00,  val loss 1.735942, percent error 33.10\n",
            "Epoch    75, train loss 0.001860, train error 0.00,  val loss 1.737314, percent error 33.00\n",
            "Epoch    76, train loss 0.001848, train error 0.00,  val loss 1.738584, percent error 32.90\n",
            "Epoch    77, train loss 0.001836, train error 0.00,  val loss 1.739827, percent error 32.90\n",
            "Epoch    78, train loss 0.001825, train error 0.00,  val loss 1.740667, percent error 33.00\n",
            "Epoch    79, train loss 0.001813, train error 0.00,  val loss 1.742177, percent error 32.90\n",
            "Epoch    80, train loss 0.001807, train error 0.00,  val loss 1.742604, percent error 32.90\n",
            "Epoch    81, train loss 0.001802, train error 0.00,  val loss 1.743330, percent error 32.90\n",
            "Epoch    82, train loss 0.001796, train error 0.00,  val loss 1.744138, percent error 32.90\n",
            "Epoch    83, train loss 0.001790, train error 0.00,  val loss 1.744793, percent error 32.90\n",
            "Epoch    84, train loss 0.001785, train error 0.00,  val loss 1.745146, percent error 32.90\n",
            "Epoch    85, train loss 0.001780, train error 0.00,  val loss 1.745833, percent error 32.90\n",
            "Epoch    86, train loss 0.001774, train error 0.00,  val loss 1.746427, percent error 32.90\n",
            "Epoch    87, train loss 0.001769, train error 0.00,  val loss 1.746950, percent error 32.90\n",
            "Epoch    88, train loss 0.001763, train error 0.00,  val loss 1.747668, percent error 32.90\n",
            "Epoch    89, train loss 0.001758, train error 0.00,  val loss 1.748282, percent error 32.90\n",
            "Epoch    90, train loss 0.001753, train error 0.00,  val loss 1.748803, percent error 32.90\n",
            "Epoch    91, train loss 0.001747, train error 0.00,  val loss 1.749462, percent error 32.90\n",
            "Epoch    92, train loss 0.001742, train error 0.00,  val loss 1.749973, percent error 33.00\n",
            "Epoch    93, train loss 0.001737, train error 0.00,  val loss 1.750562, percent error 32.90\n",
            "Epoch    94, train loss 0.001732, train error 0.00,  val loss 1.751229, percent error 33.00\n",
            "Epoch    95, train loss 0.001726, train error 0.00,  val loss 1.751698, percent error 32.90\n",
            "Epoch    96, train loss 0.001721, train error 0.00,  val loss 1.752383, percent error 32.90\n",
            "Epoch    97, train loss 0.001716, train error 0.00,  val loss 1.752818, percent error 32.90\n",
            "Epoch    98, train loss 0.001711, train error 0.00,  val loss 1.753387, percent error 33.00\n",
            "Epoch    99, train loss 0.001706, train error 0.00,  val loss 1.754162, percent error 33.00\n"
          ]
        }
      ]
    },
    {
      "cell_type": "code",
      "source": [
        "# Plot the results\n",
        "fig, ax = plt.subplots()\n",
        "ax.plot(errors_train,'r-',label='train')\n",
        "ax.plot(errors_val,'b-',label='test')\n",
        "ax.set_ylim(0,100); ax.set_xlim(0,n_epoch)\n",
        "ax.set_xlabel('Epoch'); ax.set_ylabel('Error')\n",
        "ax.set_title('TrainError %3.2f, Val Error %3.2f'%(errors_train[-1],errors_val[-1]))\n",
        "ax.legend()\n",
        "plt.show()"
      ],
      "metadata": {
        "colab": {
          "base_uri": "https://localhost:8080/",
          "height": 472
        },
        "id": "YRMNWrAvvNBk",
        "outputId": "b7da028e-3ec9-48c7-c85a-af82e86fac16"
      },
      "execution_count": null,
      "outputs": [
        {
          "output_type": "display_data",
          "data": {
            "text/plain": [
              "<Figure size 640x480 with 1 Axes>"
            ],
            "image/png": "[encoded data removed]"
          },
          "metadata": {}
        }
      ]
    }
  ]
}