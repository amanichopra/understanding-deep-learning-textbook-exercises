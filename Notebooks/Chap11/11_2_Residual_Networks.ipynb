{
  "nbformat": 4,
  "nbformat_minor": 0,
  "metadata": {
    "colab": {
      "provenance": [],
      "include_colab_link": true
    },
    "kernelspec": {
      "name": "python3",
      "display_name": "Python 3"
    },
    "language_info": {
      "name": "python"
    }
  },
  "cells": [
    {
      "cell_type": "markdown",
      "metadata": {
        "id": "view-in-github",
        "colab_type": "text"
      },
      "source": [
        "<a href=\"https://colab.research.google.com/github/amanichopra/understanding-deep-learning-textbook-exercises/blob/main/Notebooks/Chap11/11_2_Residual_Networks.ipynb\" target=\"_parent\"><img src=\"https://colab.research.google.com/assets/colab-badge.svg\" alt=\"Open In Colab\"/></a>"
      ]
    },
    {
      "cell_type": "markdown",
      "source": [
        "# **Notebook 11.2: Residual Networks**\n",
        "\n",
        "This notebook adapts the networks for MNIST1D to use residual connections.\n",
        "\n",
        "Work through the cells below, running each cell in turn. In various places you will see the words \"TODO\". Follow the instructions at these places and make predictions about what is going to happen or write code to complete the functions.\n",
        "\n",
        "Contact me at udlbookmail@gmail.com if you find any mistakes or have any suggestions.\n",
        "\n"
      ],
      "metadata": {
        "id": "t9vk9Elugvmi"
      }
    },
    {
      "cell_type": "code",
      "source": [
        "# Run this if you're in a Colab to install MNIST 1D repository\n",
        "!pip install git+https://github.com/greydanus/mnist1d"
      ],
      "metadata": {
        "id": "D5yLObtZCi9J",
        "outputId": "05e662a8-0ef4-4fe0-fdb0-a87a2cbf34c5",
        "colab": {
          "base_uri": "https://localhost:8080/"
        }
      },
      "execution_count": 1,
      "outputs": [
        {
          "output_type": "stream",
          "name": "stdout",
          "text": [
            "Collecting git+https://github.com/greydanus/mnist1d\n",
            "  Cloning https://github.com/greydanus/mnist1d to /tmp/pip-req-build-i91ohkcv\n",
            "  Running command git clone --filter=blob:none --quiet https://github.com/greydanus/mnist1d /tmp/pip-req-build-i91ohkcv\n",
            "  Resolved https://github.com/greydanus/mnist1d to commit 7878d96082abd200c546a07a4101fa90b30fdf7e\n",
            "  Installing build dependencies ... \u001b[?25l\u001b[?25hdone\n",
            "  Getting requirements to build wheel ... \u001b[?25l\u001b[?25hdone\n",
            "  Preparing metadata (pyproject.toml) ... \u001b[?25l\u001b[?25hdone\n",
            "Requirement already satisfied: requests in /usr/local/lib/python3.12/dist-packages (from mnist1d==0.0.2.post16) (2.32.4)\n",
            "Requirement already satisfied: numpy in /usr/local/lib/python3.12/dist-packages (from mnist1d==0.0.2.post16) (2.0.2)\n",
            "Requirement already satisfied: matplotlib in /usr/local/lib/python3.12/dist-packages (from mnist1d==0.0.2.post16) (3.10.0)\n",
            "Requirement already satisfied: scipy in /usr/local/lib/python3.12/dist-packages (from mnist1d==0.0.2.post16) (1.16.2)\n",
            "Requirement already satisfied: contourpy>=1.0.1 in /usr/local/lib/python3.12/dist-packages (from matplotlib->mnist1d==0.0.2.post16) (1.3.3)\n",
            "Requirement already satisfied: cycler>=0.10 in /usr/local/lib/python3.12/dist-packages (from matplotlib->mnist1d==0.0.2.post16) (0.12.1)\n",
            "Requirement already satisfied: fonttools>=4.22.0 in /usr/local/lib/python3.12/dist-packages (from matplotlib->mnist1d==0.0.2.post16) (4.60.0)\n",
            "Requirement already satisfied: kiwisolver>=1.3.1 in /usr/local/lib/python3.12/dist-packages (from matplotlib->mnist1d==0.0.2.post16) (1.4.9)\n",
            "Requirement already satisfied: packaging>=20.0 in /usr/local/lib/python3.12/dist-packages (from matplotlib->mnist1d==0.0.2.post16) (25.0)\n",
            "Requirement already satisfied: pillow>=8 in /usr/local/lib/python3.12/dist-packages (from matplotlib->mnist1d==0.0.2.post16) (11.3.0)\n",
            "Requirement already satisfied: pyparsing>=2.3.1 in /usr/local/lib/python3.12/dist-packages (from matplotlib->mnist1d==0.0.2.post16) (3.2.4)\n",
            "Requirement already satisfied: python-dateutil>=2.7 in /usr/local/lib/python3.12/dist-packages (from matplotlib->mnist1d==0.0.2.post16) (2.9.0.post0)\n",
            "Requirement already satisfied: charset_normalizer<4,>=2 in /usr/local/lib/python3.12/dist-packages (from requests->mnist1d==0.0.2.post16) (3.4.3)\n",
            "Requirement already satisfied: idna<4,>=2.5 in /usr/local/lib/python3.12/dist-packages (from requests->mnist1d==0.0.2.post16) (3.10)\n",
            "Requirement already satisfied: urllib3<3,>=1.21.1 in /usr/local/lib/python3.12/dist-packages (from requests->mnist1d==0.0.2.post16) (2.5.0)\n",
            "Requirement already satisfied: certifi>=2017.4.17 in /usr/local/lib/python3.12/dist-packages (from requests->mnist1d==0.0.2.post16) (2025.8.3)\n",
            "Requirement already satisfied: six>=1.5 in /usr/local/lib/python3.12/dist-packages (from python-dateutil>=2.7->matplotlib->mnist1d==0.0.2.post16) (1.17.0)\n",
            "Building wheels for collected packages: mnist1d\n",
            "  Building wheel for mnist1d (pyproject.toml) ... \u001b[?25l\u001b[?25hdone\n",
            "  Created wheel for mnist1d: filename=mnist1d-0.0.2.post16-py3-none-any.whl size=14665 sha256=5262c29b4729a63ac9a01629d62e634a9bfd9b19607abd6e6654d0756e04b4f3\n",
            "  Stored in directory: /tmp/pip-ephem-wheel-cache-rvcg9ma3/wheels/18/40/b6/29381fee9b4c80fdbc304d52bb065a7286bbcca5ca2b8737c0\n",
            "Successfully built mnist1d\n",
            "Installing collected packages: mnist1d\n",
            "Successfully installed mnist1d-0.0.2.post16\n"
          ]
        }
      ]
    },
    {
      "cell_type": "code",
      "source": [
        "import numpy as np\n",
        "import os\n",
        "import torch, torch.nn as nn\n",
        "from torch.utils.data import TensorDataset, DataLoader\n",
        "from torch.optim.lr_scheduler import StepLR\n",
        "import matplotlib.pyplot as plt\n",
        "import mnist1d\n",
        "import random"
      ],
      "metadata": {
        "id": "YrXWAH7sUWvU"
      },
      "execution_count": 3,
      "outputs": []
    },
    {
      "cell_type": "code",
      "source": [
        "args = mnist1d.data.get_dataset_args()\n",
        "data = mnist1d.data.get_dataset(args, path='./mnist1d_data.pkl', download=False, regenerate=False)\n",
        "\n",
        "# The training and test input and outputs are in\n",
        "# data['x'], data['y'], data['x_test'], and data['y_test']\n",
        "print(\"Examples in training set: {}\".format(len(data['y'])))\n",
        "print(\"Examples in test set: {}\".format(len(data['y_test'])))\n",
        "print(\"Length of each example: {}\".format(data['x'].shape[-1]))"
      ],
      "metadata": {
        "id": "twI72ZCrCt5z",
        "outputId": "d02f96ab-b5fd-4017-9d70-dcb03a1a6888",
        "colab": {
          "base_uri": "https://localhost:8080/"
        }
      },
      "execution_count": 4,
      "outputs": [
        {
          "output_type": "stream",
          "name": "stdout",
          "text": [
            "Did or could not load data from ./mnist1d_data.pkl. Rebuilding dataset...\n",
            "Examples in training set: 4000\n",
            "Examples in test set: 1000\n",
            "Length of each example: 40\n"
          ]
        }
      ]
    },
    {
      "cell_type": "code",
      "source": [
        "# Load in the data\n",
        "train_data_x = data['x'].transpose()\n",
        "train_data_y = data['y']\n",
        "val_data_x = data['x_test'].transpose()\n",
        "val_data_y = data['y_test']\n",
        "# Print out sizes\n",
        "print(\"Train data: %d examples (columns), each of which has %d dimensions (rows)\"%((train_data_x.shape[1],train_data_x.shape[0])))\n",
        "print(\"Validation data: %d examples (columns), each of which has %d dimensions (rows)\"%((val_data_x.shape[1],val_data_x.shape[0])))"
      ],
      "metadata": {
        "id": "8bKADvLHbiV5",
        "outputId": "f9e0eab2-f84a-4234-f70e-d703e1b41201",
        "colab": {
          "base_uri": "https://localhost:8080/"
        }
      },
      "execution_count": 5,
      "outputs": [
        {
          "output_type": "stream",
          "name": "stdout",
          "text": [
            "Train data: 4000 examples (columns), each of which has 40 dimensions (rows)\n",
            "Validation data: 1000 examples (columns), each of which has 40 dimensions (rows)\n"
          ]
        }
      ]
    },
    {
      "cell_type": "markdown",
      "source": [
        "Define the network"
      ],
      "metadata": {
        "id": "_sFvRDGrl4qe"
      }
    },
    {
      "cell_type": "code",
      "source": [
        "# There are 40 input dimensions and 10 output dimensions for this data\n",
        "# The inputs correspond to the 40 offsets in the MNIST1D template.\n",
        "D_i = 40\n",
        "# The outputs correspond to the 10 digits\n",
        "D_o = 10\n",
        "\n",
        "\n",
        "# We will adapt this model to have residual connections around the linear layers\n",
        "# This is the same model we used in practical 8.1, but we can't use the sequential\n",
        "# class for residual networks (which aren't strictly sequential).  Hence, I've rewritten\n",
        "# it as a model that inherits from a base class\n",
        "\n",
        "class ResidualNetwork(torch.nn.Module):\n",
        "  def __init__(self, input_size, output_size, hidden_size=100):\n",
        "    super(ResidualNetwork, self).__init__()\n",
        "    self.linear1 = nn.Linear(input_size, hidden_size)\n",
        "    self.linear2 = nn.Linear(hidden_size, hidden_size)\n",
        "    self.linear3 = nn.Linear(hidden_size, hidden_size)\n",
        "    self.linear4 = nn.Linear(hidden_size, output_size)\n",
        "    print(\"Initialized MLPBase model with {} parameters\".format(self.count_params()))\n",
        "\n",
        "  def count_params(self):\n",
        "    return sum([p.view(-1).shape[0] for p in self.parameters()])\n",
        "\n",
        "# TODO -- Add residual connections to this model\n",
        "# The order of operations within each block should similar to figure 11.5b\n",
        "# ie., linear1 first, ReLU+linear2 in first residual block, ReLU+linear3 in second residual block), linear4 at end\n",
        "# Replace this function\n",
        "  def forward(self, x):\n",
        "    # First projection\n",
        "    h1 = self.linear1(x)\n",
        "\n",
        "    # Residual block 1: (h1 -> ReLU -> linear2 -> add skip)\n",
        "    z2 = self.linear2(h1.relu())\n",
        "    h2 = h1 + z2\n",
        "\n",
        "    # Residual block 2: (h2 -> ReLU -> linear3 -> add skip)\n",
        "    z3 = self.linear3(h2.relu())\n",
        "    h3 = h2 + z3\n",
        "\n",
        "    # Final output layer\n",
        "    out = self.linear4(h3)\n",
        "    return out\n"
      ],
      "metadata": {
        "id": "FslroPJJffrh"
      },
      "execution_count": 9,
      "outputs": []
    },
    {
      "cell_type": "code",
      "source": [
        "# He initialization of weights\n",
        "def weights_init(layer_in):\n",
        "  if isinstance(layer_in, nn.Linear):\n",
        "    nn.init.kaiming_uniform_(layer_in.weight)\n",
        "    layer_in.bias.data.fill_(0.0)"
      ],
      "metadata": {
        "id": "YgLaex1pfhqz"
      },
      "execution_count": 10,
      "outputs": []
    },
    {
      "cell_type": "code",
      "source": [
        "#Define the model\n",
        "model = ResidualNetwork(40, 10)\n",
        "\n",
        "# choose cross entropy loss function (equation 5.24 in the loss notes)\n",
        "loss_function = nn.CrossEntropyLoss()\n",
        "# construct SGD optimizer and initialize learning rate and momentum\n",
        "optimizer = torch.optim.SGD(model.parameters(), lr = 0.05, momentum=0.9)\n",
        "# object that decreases learning rate by half every 20 epochs\n",
        "scheduler = StepLR(optimizer, step_size=20, gamma=0.5)\n",
        "# convert data to torch tensors\n",
        "x_train = torch.tensor(train_data_x.transpose().astype('float32'))\n",
        "y_train = torch.tensor(train_data_y.astype('long'))\n",
        "x_val= torch.tensor(val_data_x.transpose().astype('float32'))\n",
        "y_val = torch.tensor(val_data_y.astype('long'))\n",
        "\n",
        "# load the data into a class that creates the batches\n",
        "data_loader = DataLoader(TensorDataset(x_train,y_train), batch_size=100, shuffle=True, worker_init_fn=np.random.seed(1))\n",
        "\n",
        "# Initialize model weights\n",
        "model.apply(weights_init)\n",
        "\n",
        "# loop over the dataset n_epoch times\n",
        "n_epoch = 100\n",
        "# store the loss and the % correct at each epoch\n",
        "losses_train = np.zeros((n_epoch))\n",
        "errors_train = np.zeros((n_epoch))\n",
        "losses_val = np.zeros((n_epoch))\n",
        "errors_val = np.zeros((n_epoch))\n",
        "\n",
        "for epoch in range(n_epoch):\n",
        "  # loop over batches\n",
        "  for i, data in enumerate(data_loader):\n",
        "    # retrieve inputs and labels for this batch\n",
        "    x_batch, y_batch = data\n",
        "    # zero the parameter gradients\n",
        "    optimizer.zero_grad()\n",
        "    # forward pass -- calculate model output\n",
        "    pred = model(x_batch)\n",
        "    # compute the loss\n",
        "    loss = loss_function(pred, y_batch)\n",
        "    # backward pass\n",
        "    loss.backward()\n",
        "    # SGD update\n",
        "    optimizer.step()\n",
        "\n",
        "  # Run whole dataset to get statistics -- normally wouldn't do this\n",
        "  pred_train = model(x_train)\n",
        "  pred_val = model(x_val)\n",
        "  _, predicted_train_class = torch.max(pred_train.data, 1)\n",
        "  _, predicted_val_class = torch.max(pred_val.data, 1)\n",
        "  errors_train[epoch] = 100 - 100 * (predicted_train_class == y_train).float().sum() / len(y_train)\n",
        "  errors_val[epoch]= 100 - 100 * (predicted_val_class == y_val).float().sum() / len(y_val)\n",
        "  losses_train[epoch] = loss_function(pred_train, y_train).item()\n",
        "  losses_val[epoch]= loss_function(pred_val, y_val).item()\n",
        "  print(f'Epoch {epoch:5d}, train loss {losses_train[epoch]:.6f}, train error {errors_train[epoch]:3.2f},  val loss {losses_val[epoch]:.6f}, percent error {errors_val[epoch]:3.2f}')\n",
        "\n",
        "  # tell scheduler to consider updating learning rate\n",
        "  scheduler.step()"
      ],
      "metadata": {
        "id": "NYw8I_3mmX5c",
        "outputId": "04f0af8e-2fa4-48b6-f6bd-e71bf3a52dc1",
        "colab": {
          "base_uri": "https://localhost:8080/"
        }
      },
      "execution_count": 11,
      "outputs": [
        {
          "output_type": "stream",
          "name": "stdout",
          "text": [
            "Initialized MLPBase model with 25310 parameters\n",
            "Epoch     0, train loss 1.614847, train error 59.20,  val loss 1.767552, percent error 61.50\n",
            "Epoch     1, train loss 1.140887, train error 43.20,  val loss 1.271948, percent error 49.70\n",
            "Epoch     2, train loss 1.005981, train error 38.00,  val loss 1.218498, percent error 47.00\n",
            "Epoch     3, train loss 0.898492, train error 34.47,  val loss 1.166523, percent error 44.30\n",
            "Epoch     4, train loss 0.774379, train error 28.65,  val loss 1.126788, percent error 43.40\n",
            "Epoch     5, train loss 0.770869, train error 29.55,  val loss 1.186636, percent error 43.20\n",
            "Epoch     6, train loss 0.667864, train error 24.28,  val loss 1.093954, percent error 41.00\n",
            "Epoch     7, train loss 0.634702, train error 23.28,  val loss 1.187914, percent error 40.90\n",
            "Epoch     8, train loss 0.533986, train error 19.62,  val loss 1.199850, percent error 39.00\n",
            "Epoch     9, train loss 0.501645, train error 18.43,  val loss 1.157517, percent error 38.60\n",
            "Epoch    10, train loss 0.443542, train error 16.78,  val loss 1.212686, percent error 37.10\n",
            "Epoch    11, train loss 0.408254, train error 14.88,  val loss 1.243240, percent error 38.20\n",
            "Epoch    12, train loss 0.361371, train error 13.03,  val loss 1.297769, percent error 39.50\n",
            "Epoch    13, train loss 0.456770, train error 16.55,  val loss 1.497084, percent error 38.70\n",
            "Epoch    14, train loss 0.455963, train error 17.25,  val loss 1.342097, percent error 37.50\n",
            "Epoch    15, train loss 0.336408, train error 12.22,  val loss 1.388958, percent error 36.70\n",
            "Epoch    16, train loss 0.284844, train error 10.60,  val loss 1.392975, percent error 34.50\n",
            "Epoch    17, train loss 0.239597, train error 8.80,  val loss 1.525177, percent error 37.00\n",
            "Epoch    18, train loss 0.272567, train error 9.62,  val loss 1.598259, percent error 37.40\n",
            "Epoch    19, train loss 0.318668, train error 11.10,  val loss 1.710945, percent error 38.40\n",
            "Epoch    20, train loss 0.071657, train error 1.62,  val loss 1.382312, percent error 34.60\n",
            "Epoch    21, train loss 0.033863, train error 0.28,  val loss 1.359647, percent error 32.30\n",
            "Epoch    22, train loss 0.020223, train error 0.03,  val loss 1.381216, percent error 31.60\n",
            "Epoch    23, train loss 0.014447, train error 0.00,  val loss 1.412624, percent error 32.10\n",
            "Epoch    24, train loss 0.011415, train error 0.00,  val loss 1.447578, percent error 31.20\n",
            "Epoch    25, train loss 0.009809, train error 0.00,  val loss 1.481120, percent error 31.60\n",
            "Epoch    26, train loss 0.008466, train error 0.00,  val loss 1.503573, percent error 31.50\n",
            "Epoch    27, train loss 0.007686, train error 0.00,  val loss 1.531961, percent error 31.50\n",
            "Epoch    28, train loss 0.006808, train error 0.00,  val loss 1.550656, percent error 31.70\n",
            "Epoch    29, train loss 0.006174, train error 0.00,  val loss 1.571208, percent error 31.60\n",
            "Epoch    30, train loss 0.005662, train error 0.00,  val loss 1.581791, percent error 31.50\n",
            "Epoch    31, train loss 0.005218, train error 0.00,  val loss 1.602008, percent error 31.70\n",
            "Epoch    32, train loss 0.004841, train error 0.00,  val loss 1.614334, percent error 31.60\n",
            "Epoch    33, train loss 0.004530, train error 0.00,  val loss 1.626695, percent error 31.80\n",
            "Epoch    34, train loss 0.004261, train error 0.00,  val loss 1.646671, percent error 31.70\n",
            "Epoch    35, train loss 0.003993, train error 0.00,  val loss 1.658942, percent error 31.80\n",
            "Epoch    36, train loss 0.003763, train error 0.00,  val loss 1.669017, percent error 31.70\n",
            "Epoch    37, train loss 0.003555, train error 0.00,  val loss 1.681095, percent error 31.90\n",
            "Epoch    38, train loss 0.003376, train error 0.00,  val loss 1.694376, percent error 31.70\n",
            "Epoch    39, train loss 0.003206, train error 0.00,  val loss 1.703652, percent error 31.90\n",
            "Epoch    40, train loss 0.003127, train error 0.00,  val loss 1.708471, percent error 31.90\n",
            "Epoch    41, train loss 0.003055, train error 0.00,  val loss 1.713742, percent error 31.90\n",
            "Epoch    42, train loss 0.002985, train error 0.00,  val loss 1.717899, percent error 31.80\n",
            "Epoch    43, train loss 0.002921, train error 0.00,  val loss 1.724361, percent error 31.70\n",
            "Epoch    44, train loss 0.002857, train error 0.00,  val loss 1.729030, percent error 31.80\n",
            "Epoch    45, train loss 0.002797, train error 0.00,  val loss 1.733394, percent error 31.80\n",
            "Epoch    46, train loss 0.002739, train error 0.00,  val loss 1.737843, percent error 31.70\n",
            "Epoch    47, train loss 0.002683, train error 0.00,  val loss 1.742975, percent error 31.80\n",
            "Epoch    48, train loss 0.002631, train error 0.00,  val loss 1.747695, percent error 31.80\n",
            "Epoch    49, train loss 0.002578, train error 0.00,  val loss 1.751118, percent error 31.80\n",
            "Epoch    50, train loss 0.002529, train error 0.00,  val loss 1.756306, percent error 31.80\n",
            "Epoch    51, train loss 0.002480, train error 0.00,  val loss 1.759775, percent error 31.90\n",
            "Epoch    52, train loss 0.002434, train error 0.00,  val loss 1.764314, percent error 31.80\n",
            "Epoch    53, train loss 0.002390, train error 0.00,  val loss 1.768109, percent error 31.70\n",
            "Epoch    54, train loss 0.002347, train error 0.00,  val loss 1.772272, percent error 31.70\n",
            "Epoch    55, train loss 0.002305, train error 0.00,  val loss 1.776611, percent error 32.10\n",
            "Epoch    56, train loss 0.002264, train error 0.00,  val loss 1.779932, percent error 32.10\n",
            "Epoch    57, train loss 0.002226, train error 0.00,  val loss 1.783484, percent error 32.00\n",
            "Epoch    58, train loss 0.002188, train error 0.00,  val loss 1.787503, percent error 32.30\n",
            "Epoch    59, train loss 0.002152, train error 0.00,  val loss 1.790704, percent error 32.20\n",
            "Epoch    60, train loss 0.002133, train error 0.00,  val loss 1.792767, percent error 32.30\n",
            "Epoch    61, train loss 0.002115, train error 0.00,  val loss 1.794656, percent error 32.20\n",
            "Epoch    62, train loss 0.002098, train error 0.00,  val loss 1.795918, percent error 32.30\n",
            "Epoch    63, train loss 0.002081, train error 0.00,  val loss 1.797923, percent error 32.30\n",
            "Epoch    64, train loss 0.002064, train error 0.00,  val loss 1.800314, percent error 32.30\n",
            "Epoch    65, train loss 0.002048, train error 0.00,  val loss 1.801801, percent error 32.30\n",
            "Epoch    66, train loss 0.002032, train error 0.00,  val loss 1.803035, percent error 32.30\n",
            "Epoch    67, train loss 0.002016, train error 0.00,  val loss 1.805497, percent error 32.30\n",
            "Epoch    68, train loss 0.002001, train error 0.00,  val loss 1.806834, percent error 32.20\n",
            "Epoch    69, train loss 0.001985, train error 0.00,  val loss 1.808754, percent error 32.30\n",
            "Epoch    70, train loss 0.001970, train error 0.00,  val loss 1.810788, percent error 32.20\n",
            "Epoch    71, train loss 0.001955, train error 0.00,  val loss 1.811895, percent error 32.20\n",
            "Epoch    72, train loss 0.001940, train error 0.00,  val loss 1.813523, percent error 32.20\n",
            "Epoch    73, train loss 0.001925, train error 0.00,  val loss 1.815892, percent error 32.20\n",
            "Epoch    74, train loss 0.001911, train error 0.00,  val loss 1.816604, percent error 32.20\n",
            "Epoch    75, train loss 0.001896, train error 0.00,  val loss 1.819202, percent error 32.20\n",
            "Epoch    76, train loss 0.001883, train error 0.00,  val loss 1.820502, percent error 32.20\n",
            "Epoch    77, train loss 0.001869, train error 0.00,  val loss 1.821767, percent error 32.20\n",
            "Epoch    78, train loss 0.001855, train error 0.00,  val loss 1.823279, percent error 32.20\n",
            "Epoch    79, train loss 0.001842, train error 0.00,  val loss 1.825331, percent error 32.20\n",
            "Epoch    80, train loss 0.001835, train error 0.00,  val loss 1.825929, percent error 32.20\n",
            "Epoch    81, train loss 0.001828, train error 0.00,  val loss 1.826833, percent error 32.20\n",
            "Epoch    82, train loss 0.001822, train error 0.00,  val loss 1.827546, percent error 32.20\n",
            "Epoch    83, train loss 0.001815, train error 0.00,  val loss 1.828503, percent error 32.20\n",
            "Epoch    84, train loss 0.001809, train error 0.00,  val loss 1.829058, percent error 32.20\n",
            "Epoch    85, train loss 0.001803, train error 0.00,  val loss 1.829838, percent error 32.20\n",
            "Epoch    86, train loss 0.001796, train error 0.00,  val loss 1.830818, percent error 32.20\n",
            "Epoch    87, train loss 0.001790, train error 0.00,  val loss 1.831626, percent error 32.20\n",
            "Epoch    88, train loss 0.001784, train error 0.00,  val loss 1.832453, percent error 32.20\n",
            "Epoch    89, train loss 0.001777, train error 0.00,  val loss 1.833022, percent error 32.20\n",
            "Epoch    90, train loss 0.001771, train error 0.00,  val loss 1.833879, percent error 32.20\n",
            "Epoch    91, train loss 0.001765, train error 0.00,  val loss 1.834563, percent error 32.20\n",
            "Epoch    92, train loss 0.001759, train error 0.00,  val loss 1.835340, percent error 32.20\n",
            "Epoch    93, train loss 0.001753, train error 0.00,  val loss 1.836164, percent error 32.20\n",
            "Epoch    94, train loss 0.001747, train error 0.00,  val loss 1.836903, percent error 32.20\n",
            "Epoch    95, train loss 0.001741, train error 0.00,  val loss 1.837764, percent error 32.20\n",
            "Epoch    96, train loss 0.001735, train error 0.00,  val loss 1.838360, percent error 32.20\n",
            "Epoch    97, train loss 0.001729, train error 0.00,  val loss 1.839447, percent error 32.20\n",
            "Epoch    98, train loss 0.001723, train error 0.00,  val loss 1.840056, percent error 32.20\n",
            "Epoch    99, train loss 0.001717, train error 0.00,  val loss 1.840922, percent error 32.20\n"
          ]
        }
      ]
    },
    {
      "cell_type": "code",
      "source": [
        "# Plot the results\n",
        "fig, ax = plt.subplots()\n",
        "ax.plot(errors_train,'r-',label='train')\n",
        "ax.plot(errors_val,'b-',label='test')\n",
        "ax.set_ylim(0,100); ax.set_xlim(0,n_epoch)\n",
        "ax.set_xlabel('Epoch'); ax.set_ylabel('Error')\n",
        "ax.set_title('TrainError %3.2f, Val Error %3.2f'%(errors_train[-1],errors_val[-1]))\n",
        "ax.legend()\n",
        "plt.show()"
      ],
      "metadata": {
        "id": "CcP_VyEmE2sv",
        "outputId": "bb7658f4-ae57-49da-e009-429b53a9fba8",
        "colab": {
          "base_uri": "https://localhost:8080/",
          "height": 472
        }
      },
      "execution_count": 12,
      "outputs": [
        {
          "output_type": "display_data",
          "data": {
            "text/plain": [
              "<Figure size 640x480 with 1 Axes>"
            ],
            "image/png": "[encoded data removed]"
          },
          "metadata": {}
        }
      ]
    },
    {
      "cell_type": "markdown",
      "source": [
        "The primary motivation of residual networks is to allow training of much deeper networks.   \n",
        "\n",
        "TODO: Try running this network with and without the residual connections.  Does adding the residual connections change the performance?"
      ],
      "metadata": {
        "id": "wMmqhmxuAx0M"
      }
    }
  ]
}