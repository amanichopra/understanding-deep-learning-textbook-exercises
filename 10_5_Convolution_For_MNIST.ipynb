{
  "nbformat": 4,
  "nbformat_minor": 0,
  "metadata": {
    "colab": {
      "provenance": [],
      "include_colab_link": true
    },
    "kernelspec": {
      "name": "python3",
      "display_name": "Python 3"
    },
    "language_info": {
      "name": "python"
    }
  },
  "cells": [
    {
      "cell_type": "markdown",
      "metadata": {
        "id": "view-in-github",
        "colab_type": "text"
      },
      "source": [
        "<a href=\"https://colab.research.google.com/github/amanichopra/understanding-deep-learning-textbook-exercises/blob/main/10_5_Convolution_For_MNIST.ipynb\" target=\"_parent\"><img src=\"https://colab.research.google.com/assets/colab-badge.svg\" alt=\"Open In Colab\"/></a>"
      ]
    },
    {
      "cell_type": "markdown",
      "source": [
        "# **Notebook 10.5: Convolution for MNIST**\n",
        "\n",
        "This notebook builds a proper network for 2D convolution.  It works with the MNIST dataset (figure 15.15a), which was the original classic dataset for classifying images.  The network will take a 28x28 grayscale image and classify it into one of 10 classes representing a digit.\n",
        "\n",
        "The code is adapted from https://nextjournal.com/gkoehler/pytorch-mnist\n",
        "\n",
        "Work through the cells below, running each cell in turn. In various places you will see the words \"TODO\". Follow the instructions at these places and make predictions about what is going to happen or write code to complete the functions.\n",
        "\n",
        "Contact me at udlbookmail@gmail.com if you find any mistakes or have any suggestions.\n"
      ],
      "metadata": {
        "id": "t9vk9Elugvmi"
      }
    },
    {
      "cell_type": "code",
      "source": [
        "import torch\n",
        "import torchvision\n",
        "import torch.nn as nn\n",
        "import torch.nn.functional as F\n",
        "import torch.optim as optim\n",
        "import matplotlib.pyplot as plt\n",
        "import random"
      ],
      "metadata": {
        "id": "YrXWAH7sUWvU"
      },
      "execution_count": 1,
      "outputs": []
    },
    {
      "cell_type": "code",
      "source": [
        "# Run this once to load the train and test data straight into a dataloader class\n",
        "# that will provide the batches\n",
        "\n",
        "# (It may complain that some files are missing because the files seem to have been\n",
        "# reorganized on the underlying website, but it still seems to work). If everything is working\n",
        "# properly, then the whole notebook should run to the end without further problems\n",
        "# even before you make changes.\n",
        "batch_size_train = 64\n",
        "batch_size_test = 1000\n",
        "\n",
        "# TODO Change this directory to point towards an existing directory\n",
        "myDir = '/files/'\n",
        "\n",
        "train_loader = torch.utils.data.DataLoader(\n",
        "  torchvision.datasets.MNIST(myDir, train=True, download=True,\n",
        "                             transform=torchvision.transforms.Compose([\n",
        "                               torchvision.transforms.ToTensor(),\n",
        "                               torchvision.transforms.Normalize(\n",
        "                                 (0.1307,), (0.3081,))\n",
        "                             ])),\n",
        "  batch_size=batch_size_train, shuffle=True)\n",
        "\n",
        "test_loader = torch.utils.data.DataLoader(\n",
        "  torchvision.datasets.MNIST(myDir, train=False, download=True,\n",
        "                             transform=torchvision.transforms.Compose([\n",
        "                               torchvision.transforms.ToTensor(),\n",
        "                               torchvision.transforms.Normalize(\n",
        "                                 (0.1307,), (0.3081,))\n",
        "                             ])),\n",
        "  batch_size=batch_size_test, shuffle=True)"
      ],
      "metadata": {
        "id": "wScBGXXFVadm",
        "colab": {
          "base_uri": "https://localhost:8080/"
        },
        "outputId": "35ef53dd-3904-41e8-9556-b813727abb92"
      },
      "execution_count": 2,
      "outputs": [
        {
          "output_type": "stream",
          "name": "stderr",
          "text": [
            "100%|██████████| 9.91M/9.91M [00:00<00:00, 34.2MB/s]\n",
            "100%|██████████| 28.9k/28.9k [00:00<00:00, 1.08MB/s]\n",
            "100%|██████████| 1.65M/1.65M [00:00<00:00, 8.95MB/s]\n",
            "100%|██████████| 4.54k/4.54k [00:00<00:00, 6.36MB/s]\n"
          ]
        }
      ]
    },
    {
      "cell_type": "code",
      "source": [
        "# Let's draw some of the training data\n",
        "examples = enumerate(test_loader)\n",
        "batch_idx, (example_data, example_targets) = next(examples)\n",
        "\n",
        "fig = plt.figure()\n",
        "for i in range(6):\n",
        "  plt.subplot(2,3,i+1)\n",
        "  plt.tight_layout()\n",
        "  plt.imshow(example_data[i][0], cmap='gray', interpolation='none')\n",
        "  plt.title(\"Ground Truth: {}\".format(example_targets[i]))\n",
        "  plt.xticks([])\n",
        "  plt.yticks([])\n",
        "plt.show()"
      ],
      "metadata": {
        "id": "8bKADvLHbiV5",
        "colab": {
          "base_uri": "https://localhost:8080/",
          "height": 438
        },
        "outputId": "b12cdb44-65c6-495d-e2d2-01ee1621a36b"
      },
      "execution_count": 3,
      "outputs": [
        {
          "output_type": "display_data",
          "data": {
            "text/plain": [
              "<Figure size 640x480 with 6 Axes>"
            ],
            "image/png": "[encoded data removed]"
          },
          "metadata": {}
        }
      ]
    },
    {
      "cell_type": "markdown",
      "source": [
        "Define the network.  This is a more typical way to define a network than the sequential structure.  We define a class for the network, and define the parameters in the constructor.  Then we use a function called forward to actually run the network.  It's easy to see how you might use residual connections in this format."
      ],
      "metadata": {
        "id": "_sFvRDGrl4qe"
      }
    },
    {
      "cell_type": "code",
      "source": [
        "example_data[i][0].shape"
      ],
      "metadata": {
        "colab": {
          "base_uri": "https://localhost:8080/"
        },
        "id": "JsjM5d5KlkKy",
        "outputId": "2dbc4ae1-3918-4c20-cbfe-34e8f1e4f838"
      },
      "execution_count": 5,
      "outputs": [
        {
          "output_type": "execute_result",
          "data": {
            "text/plain": [
              "torch.Size([28, 28])"
            ]
          },
          "metadata": {},
          "execution_count": 5
        }
      ]
    },
    {
      "cell_type": "code",
      "source": [
        "from os import X_OK\n",
        "# TODO Change this class to implement\n",
        "# 1. A valid convolution with kernel size 5, 1 input channel and 10 output channels\n",
        "# 2. A max pooling operation over a 2x2 area\n",
        "# 3. A Relu\n",
        "# 4. A valid convolution with kernel size 5, 10 input channels and 20 output channels\n",
        "# 5. A 2D Dropout layer\n",
        "# 6. A max pooling operation over a 2x2 area\n",
        "# 7. A relu\n",
        "# 8. A flattening operation\n",
        "# 9. A fully connected layer mapping from (whatever dimensions we are at-- find out using .shape) to 50\n",
        "# 10. A ReLU\n",
        "# 11. A fully connected layer mapping from 50 to 10 dimensions\n",
        "# 12. A softmax function.\n",
        "\n",
        "# Replace this class which implements a minimal network (which still does okay)\n",
        "class Net(nn.Module):\n",
        "    def __init__(self):\n",
        "        super(Net, self).__init__()\n",
        "        # Valid convolution, 1 channel in, 2 channels out, stride 1, kernel size = 3\n",
        "        self.conv1 = nn.Conv2d(1, 10, kernel_size=5)\n",
        "        self.conv2 = nn.Conv2d(10, 20, kernel_size=5)\n",
        "        # Dropout for convolutions\n",
        "        self.drop = nn.Dropout2d()\n",
        "        # Fully connected layer\n",
        "        self.fc1 = nn.Linear(20*4*4, 50)\n",
        "        self.fc2 = nn.Linear(50, 10)\n",
        "\n",
        "    def forward(self, x):\n",
        "        x = self.conv1(x)\n",
        "        x = F.max_pool2d(x,2)\n",
        "        x = F.relu(x)\n",
        "        x = self.conv2(x)\n",
        "        x = self.drop(x)\n",
        "        x = F.max_pool2d(x,2)\n",
        "        x = F.relu(x)\n",
        "        x = x.flatten(1)\n",
        "        x = self.fc1(x)\n",
        "        x = self.fc2(x)\n",
        "        x = F.log_softmax(x)\n",
        "        return x\n",
        "\n",
        "\n",
        "\n",
        "\n"
      ],
      "metadata": {
        "id": "EQkvw2KOPVl7"
      },
      "execution_count": 12,
      "outputs": []
    },
    {
      "cell_type": "code",
      "source": [
        "# He initialization of weights\n",
        "def weights_init(layer_in):\n",
        "  if isinstance(layer_in, nn.Linear):\n",
        "    nn.init.kaiming_uniform_(layer_in.weight)\n",
        "    layer_in.bias.data.fill_(0.0)"
      ],
      "metadata": {
        "id": "qWZtkCZcU_dg"
      },
      "execution_count": 13,
      "outputs": []
    },
    {
      "cell_type": "code",
      "source": [
        "# Create network\n",
        "model = Net()\n",
        "# Initialize model weights\n",
        "model.apply(weights_init)\n",
        "# Define optimizer\n",
        "optimizer = optim.SGD(model.parameters(), lr=0.01, momentum=0.5)"
      ],
      "metadata": {
        "id": "FslroPJJffrh"
      },
      "execution_count": 14,
      "outputs": []
    },
    {
      "cell_type": "code",
      "source": [
        "# Main training routine\n",
        "def train(epoch):\n",
        "  model.train()\n",
        "  # Get each\n",
        "  for batch_idx, (data, target) in enumerate(train_loader):\n",
        "    optimizer.zero_grad()\n",
        "    output = model(data)\n",
        "    loss = F.nll_loss(output, target)\n",
        "    loss.backward()\n",
        "    optimizer.step()\n",
        "    # Store results\n",
        "    if batch_idx % 10 == 0:\n",
        "      print('Train Epoch: {} [{}/{}]\\tLoss: {:.6f}'.format(\n",
        "        epoch, batch_idx * len(data), len(train_loader.dataset), loss.item()))"
      ],
      "metadata": {
        "id": "xKQd9PzkQ766"
      },
      "execution_count": 15,
      "outputs": []
    },
    {
      "cell_type": "code",
      "source": [
        "# Run on test data\n",
        "def test():\n",
        "  model.eval()\n",
        "  test_loss = 0\n",
        "  correct = 0\n",
        "  with torch.no_grad():\n",
        "    for data, target in test_loader:\n",
        "      output = model(data)\n",
        "      test_loss += F.nll_loss(output, target, size_average=False).item()\n",
        "      pred = output.data.max(1, keepdim=True)[1]\n",
        "      correct += pred.eq(target.data.view_as(pred)).sum()\n",
        "  test_loss /= len(test_loader.dataset)\n",
        "  print('\\nTest set: Avg. loss: {:.4f}, Accuracy: {}/{} ({:.0f}%)\\n'.format(\n",
        "    test_loss, correct, len(test_loader.dataset),\n",
        "    100. * correct / len(test_loader.dataset)))"
      ],
      "metadata": {
        "id": "Byn-f7qWRLxX"
      },
      "execution_count": 16,
      "outputs": []
    },
    {
      "cell_type": "code",
      "source": [
        "# Get initial performance\n",
        "test()\n",
        "# Train for three epochs\n",
        "n_epochs = 3\n",
        "for epoch in range(1, n_epochs + 1):\n",
        "  train(epoch)\n",
        "  test()"
      ],
      "metadata": {
        "id": "YgLaex1pfhqz",
        "colab": {
          "base_uri": "https://localhost:8080/"
        },
        "outputId": "33e093f3-b42a-436d-c325-8a0bfefbff62"
      },
      "execution_count": 17,
      "outputs": [
        {
          "output_type": "stream",
          "name": "stderr",
          "text": [
            "/tmp/ipython-input-728465458.py:40: UserWarning: Implicit dimension choice for log_softmax has been deprecated. Change the call to include dim=X as an argument.\n",
            "  x = F.log_softmax(x)\n",
            "/usr/local/lib/python3.12/dist-packages/torch/nn/_reduction.py:51: UserWarning: size_average and reduce args will be deprecated, please use reduction='sum' instead.\n",
            "  warnings.warn(warning.format(ret))\n"
          ]
        },
        {
          "output_type": "stream",
          "name": "stdout",
          "text": [
            "\n",
            "Test set: Avg. loss: 2.6204, Accuracy: 990/10000 (10%)\n",
            "\n",
            "Train Epoch: 1 [0/60000]\tLoss: 2.908153\n",
            "Train Epoch: 1 [640/60000]\tLoss: 2.183627\n",
            "Train Epoch: 1 [1280/60000]\tLoss: 2.033109\n",
            "Train Epoch: 1 [1920/60000]\tLoss: 1.989729\n",
            "Train Epoch: 1 [2560/60000]\tLoss: 1.672350\n",
            "Train Epoch: 1 [3200/60000]\tLoss: 1.525257\n",
            "Train Epoch: 1 [3840/60000]\tLoss: 1.173574\n",
            "Train Epoch: 1 [4480/60000]\tLoss: 1.106767\n",
            "Train Epoch: 1 [5120/60000]\tLoss: 0.852714\n",
            "Train Epoch: 1 [5760/60000]\tLoss: 0.730925\n",
            "Train Epoch: 1 [6400/60000]\tLoss: 1.065827\n",
            "Train Epoch: 1 [7040/60000]\tLoss: 0.922720\n",
            "Train Epoch: 1 [7680/60000]\tLoss: 0.657736\n",
            "Train Epoch: 1 [8320/60000]\tLoss: 0.613004\n",
            "Train Epoch: 1 [8960/60000]\tLoss: 0.581214\n",
            "Train Epoch: 1 [9600/60000]\tLoss: 0.675141\n",
            "Train Epoch: 1 [10240/60000]\tLoss: 0.640480\n",
            "Train Epoch: 1 [10880/60000]\tLoss: 0.897136\n",
            "Train Epoch: 1 [11520/60000]\tLoss: 0.553307\n",
            "Train Epoch: 1 [12160/60000]\tLoss: 0.621297\n",
            "Train Epoch: 1 [12800/60000]\tLoss: 0.653107\n",
            "Train Epoch: 1 [13440/60000]\tLoss: 0.633019\n",
            "Train Epoch: 1 [14080/60000]\tLoss: 0.349854\n",
            "Train Epoch: 1 [14720/60000]\tLoss: 0.363509\n",
            "Train Epoch: 1 [15360/60000]\tLoss: 0.561580\n",
            "Train Epoch: 1 [16000/60000]\tLoss: 0.560897\n",
            "Train Epoch: 1 [16640/60000]\tLoss: 0.366606\n",
            "Train Epoch: 1 [17280/60000]\tLoss: 0.257376\n",
            "Train Epoch: 1 [17920/60000]\tLoss: 0.326684\n",
            "Train Epoch: 1 [18560/60000]\tLoss: 0.339494\n",
            "Train Epoch: 1 [19200/60000]\tLoss: 0.582128\n",
            "Train Epoch: 1 [19840/60000]\tLoss: 0.496804\n",
            "Train Epoch: 1 [20480/60000]\tLoss: 0.384118\n",
            "Train Epoch: 1 [21120/60000]\tLoss: 0.469360\n",
            "Train Epoch: 1 [21760/60000]\tLoss: 0.540336\n",
            "Train Epoch: 1 [22400/60000]\tLoss: 0.545441\n",
            "Train Epoch: 1 [23040/60000]\tLoss: 0.342807\n",
            "Train Epoch: 1 [23680/60000]\tLoss: 0.694131\n",
            "Train Epoch: 1 [24320/60000]\tLoss: 0.281721\n",
            "Train Epoch: 1 [24960/60000]\tLoss: 0.214005\n",
            "Train Epoch: 1 [25600/60000]\tLoss: 0.370210\n",
            "Train Epoch: 1 [26240/60000]\tLoss: 0.322998\n",
            "Train Epoch: 1 [26880/60000]\tLoss: 0.260799\n",
            "Train Epoch: 1 [27520/60000]\tLoss: 0.231065\n",
            "Train Epoch: 1 [28160/60000]\tLoss: 0.248958\n",
            "Train Epoch: 1 [28800/60000]\tLoss: 0.449650\n",
            "Train Epoch: 1 [29440/60000]\tLoss: 0.244478\n",
            "Train Epoch: 1 [30080/60000]\tLoss: 0.253613\n",
            "Train Epoch: 1 [30720/60000]\tLoss: 0.151559\n",
            "Train Epoch: 1 [31360/60000]\tLoss: 0.255794\n",
            "Train Epoch: 1 [32000/60000]\tLoss: 0.167379\n",
            "Train Epoch: 1 [32640/60000]\tLoss: 0.180539\n",
            "Train Epoch: 1 [33280/60000]\tLoss: 0.192018\n",
            "Train Epoch: 1 [33920/60000]\tLoss: 0.376016\n",
            "Train Epoch: 1 [34560/60000]\tLoss: 0.217081\n",
            "Train Epoch: 1 [35200/60000]\tLoss: 0.242037\n",
            "Train Epoch: 1 [35840/60000]\tLoss: 0.584585\n",
            "Train Epoch: 1 [36480/60000]\tLoss: 0.456882\n",
            "Train Epoch: 1 [37120/60000]\tLoss: 0.338428\n",
            "Train Epoch: 1 [37760/60000]\tLoss: 0.167468\n",
            "Train Epoch: 1 [38400/60000]\tLoss: 0.267040\n",
            "Train Epoch: 1 [39040/60000]\tLoss: 0.249157\n",
            "Train Epoch: 1 [39680/60000]\tLoss: 0.297977\n",
            "Train Epoch: 1 [40320/60000]\tLoss: 0.171469\n",
            "Train Epoch: 1 [40960/60000]\tLoss: 0.256092\n",
            "Train Epoch: 1 [41600/60000]\tLoss: 0.236826\n",
            "Train Epoch: 1 [42240/60000]\tLoss: 0.256317\n",
            "Train Epoch: 1 [42880/60000]\tLoss: 0.264587\n",
            "Train Epoch: 1 [43520/60000]\tLoss: 0.354448\n",
            "Train Epoch: 1 [44160/60000]\tLoss: 0.333815\n",
            "Train Epoch: 1 [44800/60000]\tLoss: 0.231506\n",
            "Train Epoch: 1 [45440/60000]\tLoss: 0.224953\n",
            "Train Epoch: 1 [46080/60000]\tLoss: 0.340710\n",
            "Train Epoch: 1 [46720/60000]\tLoss: 0.198058\n",
            "Train Epoch: 1 [47360/60000]\tLoss: 0.148027\n",
            "Train Epoch: 1 [48000/60000]\tLoss: 0.226695\n",
            "Train Epoch: 1 [48640/60000]\tLoss: 0.134179\n",
            "Train Epoch: 1 [49280/60000]\tLoss: 0.224036\n",
            "Train Epoch: 1 [49920/60000]\tLoss: 0.307963\n",
            "Train Epoch: 1 [50560/60000]\tLoss: 0.331393\n",
            "Train Epoch: 1 [51200/60000]\tLoss: 0.266406\n",
            "Train Epoch: 1 [51840/60000]\tLoss: 0.273130\n",
            "Train Epoch: 1 [52480/60000]\tLoss: 0.066077\n",
            "Train Epoch: 1 [53120/60000]\tLoss: 0.174201\n",
            "Train Epoch: 1 [53760/60000]\tLoss: 0.222396\n",
            "Train Epoch: 1 [54400/60000]\tLoss: 0.316987\n",
            "Train Epoch: 1 [55040/60000]\tLoss: 0.201584\n",
            "Train Epoch: 1 [55680/60000]\tLoss: 0.277980\n",
            "Train Epoch: 1 [56320/60000]\tLoss: 0.317461\n",
            "Train Epoch: 1 [56960/60000]\tLoss: 0.301743\n",
            "Train Epoch: 1 [57600/60000]\tLoss: 0.216738\n",
            "Train Epoch: 1 [58240/60000]\tLoss: 0.128707\n",
            "Train Epoch: 1 [58880/60000]\tLoss: 0.362827\n",
            "Train Epoch: 1 [59520/60000]\tLoss: 0.280736\n",
            "\n",
            "Test set: Avg. loss: 0.1151, Accuracy: 9636/10000 (96%)\n",
            "\n",
            "Train Epoch: 2 [0/60000]\tLoss: 0.122074\n",
            "Train Epoch: 2 [640/60000]\tLoss: 0.200429\n",
            "Train Epoch: 2 [1280/60000]\tLoss: 0.215437\n",
            "Train Epoch: 2 [1920/60000]\tLoss: 0.159678\n",
            "Train Epoch: 2 [2560/60000]\tLoss: 0.185367\n",
            "Train Epoch: 2 [3200/60000]\tLoss: 0.221306\n",
            "Train Epoch: 2 [3840/60000]\tLoss: 0.300290\n",
            "Train Epoch: 2 [4480/60000]\tLoss: 0.417681\n",
            "Train Epoch: 2 [5120/60000]\tLoss: 0.153878\n",
            "Train Epoch: 2 [5760/60000]\tLoss: 0.100986\n",
            "Train Epoch: 2 [6400/60000]\tLoss: 0.186807\n",
            "Train Epoch: 2 [7040/60000]\tLoss: 0.165214\n",
            "Train Epoch: 2 [7680/60000]\tLoss: 0.304676\n",
            "Train Epoch: 2 [8320/60000]\tLoss: 0.121545\n",
            "Train Epoch: 2 [8960/60000]\tLoss: 0.158248\n",
            "Train Epoch: 2 [9600/60000]\tLoss: 0.166294\n",
            "Train Epoch: 2 [10240/60000]\tLoss: 0.196009\n",
            "Train Epoch: 2 [10880/60000]\tLoss: 0.164577\n",
            "Train Epoch: 2 [11520/60000]\tLoss: 0.203306\n",
            "Train Epoch: 2 [12160/60000]\tLoss: 0.197805\n",
            "Train Epoch: 2 [12800/60000]\tLoss: 0.350077\n",
            "Train Epoch: 2 [13440/60000]\tLoss: 0.105116\n",
            "Train Epoch: 2 [14080/60000]\tLoss: 0.226063\n",
            "Train Epoch: 2 [14720/60000]\tLoss: 0.201451\n",
            "Train Epoch: 2 [15360/60000]\tLoss: 0.216345\n",
            "Train Epoch: 2 [16000/60000]\tLoss: 0.318488\n",
            "Train Epoch: 2 [16640/60000]\tLoss: 0.373924\n",
            "Train Epoch: 2 [17280/60000]\tLoss: 0.283298\n",
            "Train Epoch: 2 [17920/60000]\tLoss: 0.126268\n",
            "Train Epoch: 2 [18560/60000]\tLoss: 0.274942\n",
            "Train Epoch: 2 [19200/60000]\tLoss: 0.087355\n",
            "Train Epoch: 2 [19840/60000]\tLoss: 0.145490\n",
            "Train Epoch: 2 [20480/60000]\tLoss: 0.406891\n",
            "Train Epoch: 2 [21120/60000]\tLoss: 0.120860\n",
            "Train Epoch: 2 [21760/60000]\tLoss: 0.121931\n",
            "Train Epoch: 2 [22400/60000]\tLoss: 0.128177\n",
            "Train Epoch: 2 [23040/60000]\tLoss: 0.163240\n",
            "Train Epoch: 2 [23680/60000]\tLoss: 0.158807\n",
            "Train Epoch: 2 [24320/60000]\tLoss: 0.146977\n",
            "Train Epoch: 2 [24960/60000]\tLoss: 0.085703\n",
            "Train Epoch: 2 [25600/60000]\tLoss: 0.088870\n",
            "Train Epoch: 2 [26240/60000]\tLoss: 0.137545\n",
            "Train Epoch: 2 [26880/60000]\tLoss: 0.048247\n",
            "Train Epoch: 2 [27520/60000]\tLoss: 0.177485\n",
            "Train Epoch: 2 [28160/60000]\tLoss: 0.102047\n",
            "Train Epoch: 2 [28800/60000]\tLoss: 0.203681\n",
            "Train Epoch: 2 [29440/60000]\tLoss: 0.085957\n",
            "Train Epoch: 2 [30080/60000]\tLoss: 0.200458\n",
            "Train Epoch: 2 [30720/60000]\tLoss: 0.180018\n",
            "Train Epoch: 2 [31360/60000]\tLoss: 0.041609\n",
            "Train Epoch: 2 [32000/60000]\tLoss: 0.132696\n",
            "Train Epoch: 2 [32640/60000]\tLoss: 0.122073\n",
            "Train Epoch: 2 [33280/60000]\tLoss: 0.164464\n",
            "Train Epoch: 2 [33920/60000]\tLoss: 0.162536\n",
            "Train Epoch: 2 [34560/60000]\tLoss: 0.201669\n",
            "Train Epoch: 2 [35200/60000]\tLoss: 0.176797\n",
            "Train Epoch: 2 [35840/60000]\tLoss: 0.207801\n",
            "Train Epoch: 2 [36480/60000]\tLoss: 0.256646\n",
            "Train Epoch: 2 [37120/60000]\tLoss: 0.169831\n",
            "Train Epoch: 2 [37760/60000]\tLoss: 0.143603\n",
            "Train Epoch: 2 [38400/60000]\tLoss: 0.178032\n",
            "Train Epoch: 2 [39040/60000]\tLoss: 0.127087\n",
            "Train Epoch: 2 [39680/60000]\tLoss: 0.303767\n",
            "Train Epoch: 2 [40320/60000]\tLoss: 0.194090\n",
            "Train Epoch: 2 [40960/60000]\tLoss: 0.174486\n",
            "Train Epoch: 2 [41600/60000]\tLoss: 0.168652\n",
            "Train Epoch: 2 [42240/60000]\tLoss: 0.206533\n",
            "Train Epoch: 2 [42880/60000]\tLoss: 0.216011\n",
            "Train Epoch: 2 [43520/60000]\tLoss: 0.129361\n",
            "Train Epoch: 2 [44160/60000]\tLoss: 0.136110\n",
            "Train Epoch: 2 [44800/60000]\tLoss: 0.185426\n",
            "Train Epoch: 2 [45440/60000]\tLoss: 0.285374\n",
            "Train Epoch: 2 [46080/60000]\tLoss: 0.112059\n",
            "Train Epoch: 2 [46720/60000]\tLoss: 0.111949\n",
            "Train Epoch: 2 [47360/60000]\tLoss: 0.107986\n",
            "Train Epoch: 2 [48000/60000]\tLoss: 0.158060\n",
            "Train Epoch: 2 [48640/60000]\tLoss: 0.189734\n",
            "Train Epoch: 2 [49280/60000]\tLoss: 0.131033\n",
            "Train Epoch: 2 [49920/60000]\tLoss: 0.072267\n",
            "Train Epoch: 2 [50560/60000]\tLoss: 0.266047\n",
            "Train Epoch: 2 [51200/60000]\tLoss: 0.102964\n",
            "Train Epoch: 2 [51840/60000]\tLoss: 0.184431\n",
            "Train Epoch: 2 [52480/60000]\tLoss: 0.211984\n",
            "Train Epoch: 2 [53120/60000]\tLoss: 0.085521\n",
            "Train Epoch: 2 [53760/60000]\tLoss: 0.304510\n",
            "Train Epoch: 2 [54400/60000]\tLoss: 0.070844\n",
            "Train Epoch: 2 [55040/60000]\tLoss: 0.113786\n",
            "Train Epoch: 2 [55680/60000]\tLoss: 0.133370\n",
            "Train Epoch: 2 [56320/60000]\tLoss: 0.215690\n",
            "Train Epoch: 2 [56960/60000]\tLoss: 0.414185\n",
            "Train Epoch: 2 [57600/60000]\tLoss: 0.133551\n",
            "Train Epoch: 2 [58240/60000]\tLoss: 0.057509\n",
            "Train Epoch: 2 [58880/60000]\tLoss: 0.039998\n",
            "Train Epoch: 2 [59520/60000]\tLoss: 0.142548\n",
            "\n",
            "Test set: Avg. loss: 0.0821, Accuracy: 9739/10000 (97%)\n",
            "\n",
            "Train Epoch: 3 [0/60000]\tLoss: 0.205543\n",
            "Train Epoch: 3 [640/60000]\tLoss: 0.124051\n",
            "Train Epoch: 3 [1280/60000]\tLoss: 0.117085\n",
            "Train Epoch: 3 [1920/60000]\tLoss: 0.037678\n",
            "Train Epoch: 3 [2560/60000]\tLoss: 0.187205\n",
            "Train Epoch: 3 [3200/60000]\tLoss: 0.194810\n",
            "Train Epoch: 3 [3840/60000]\tLoss: 0.137920\n",
            "Train Epoch: 3 [4480/60000]\tLoss: 0.152529\n",
            "Train Epoch: 3 [5120/60000]\tLoss: 0.059890\n",
            "Train Epoch: 3 [5760/60000]\tLoss: 0.270536\n",
            "Train Epoch: 3 [6400/60000]\tLoss: 0.192126\n",
            "Train Epoch: 3 [7040/60000]\tLoss: 0.287621\n",
            "Train Epoch: 3 [7680/60000]\tLoss: 0.035507\n",
            "Train Epoch: 3 [8320/60000]\tLoss: 0.208800\n",
            "Train Epoch: 3 [8960/60000]\tLoss: 0.199164\n",
            "Train Epoch: 3 [9600/60000]\tLoss: 0.037367\n",
            "Train Epoch: 3 [10240/60000]\tLoss: 0.138616\n",
            "Train Epoch: 3 [10880/60000]\tLoss: 0.087677\n",
            "Train Epoch: 3 [11520/60000]\tLoss: 0.149784\n",
            "Train Epoch: 3 [12160/60000]\tLoss: 0.168493\n",
            "Train Epoch: 3 [12800/60000]\tLoss: 0.219841\n",
            "Train Epoch: 3 [13440/60000]\tLoss: 0.107575\n",
            "Train Epoch: 3 [14080/60000]\tLoss: 0.054561\n",
            "Train Epoch: 3 [14720/60000]\tLoss: 0.143098\n",
            "Train Epoch: 3 [15360/60000]\tLoss: 0.143525\n",
            "Train Epoch: 3 [16000/60000]\tLoss: 0.071285\n",
            "Train Epoch: 3 [16640/60000]\tLoss: 0.237553\n",
            "Train Epoch: 3 [17280/60000]\tLoss: 0.072238\n",
            "Train Epoch: 3 [17920/60000]\tLoss: 0.213075\n",
            "Train Epoch: 3 [18560/60000]\tLoss: 0.126611\n",
            "Train Epoch: 3 [19200/60000]\tLoss: 0.214812\n",
            "Train Epoch: 3 [19840/60000]\tLoss: 0.135170\n",
            "Train Epoch: 3 [20480/60000]\tLoss: 0.190404\n",
            "Train Epoch: 3 [21120/60000]\tLoss: 0.057223\n",
            "Train Epoch: 3 [21760/60000]\tLoss: 0.149552\n",
            "Train Epoch: 3 [22400/60000]\tLoss: 0.239220\n",
            "Train Epoch: 3 [23040/60000]\tLoss: 0.126023\n",
            "Train Epoch: 3 [23680/60000]\tLoss: 0.206350\n",
            "Train Epoch: 3 [24320/60000]\tLoss: 0.058575\n",
            "Train Epoch: 3 [24960/60000]\tLoss: 0.103972\n",
            "Train Epoch: 3 [25600/60000]\tLoss: 0.058846\n",
            "Train Epoch: 3 [26240/60000]\tLoss: 0.259607\n",
            "Train Epoch: 3 [26880/60000]\tLoss: 0.208754\n",
            "Train Epoch: 3 [27520/60000]\tLoss: 0.141330\n",
            "Train Epoch: 3 [28160/60000]\tLoss: 0.106210\n",
            "Train Epoch: 3 [28800/60000]\tLoss: 0.135140\n",
            "Train Epoch: 3 [29440/60000]\tLoss: 0.087758\n",
            "Train Epoch: 3 [30080/60000]\tLoss: 0.129645\n",
            "Train Epoch: 3 [30720/60000]\tLoss: 0.214363\n",
            "Train Epoch: 3 [31360/60000]\tLoss: 0.122022\n",
            "Train Epoch: 3 [32000/60000]\tLoss: 0.042032\n",
            "Train Epoch: 3 [32640/60000]\tLoss: 0.095816\n",
            "Train Epoch: 3 [33280/60000]\tLoss: 0.189503\n",
            "Train Epoch: 3 [33920/60000]\tLoss: 0.139277\n",
            "Train Epoch: 3 [34560/60000]\tLoss: 0.106844\n",
            "Train Epoch: 3 [35200/60000]\tLoss: 0.208626\n",
            "Train Epoch: 3 [35840/60000]\tLoss: 0.225939\n",
            "Train Epoch: 3 [36480/60000]\tLoss: 0.083779\n",
            "Train Epoch: 3 [37120/60000]\tLoss: 0.202090\n",
            "Train Epoch: 3 [37760/60000]\tLoss: 0.187437\n",
            "Train Epoch: 3 [38400/60000]\tLoss: 0.354014\n",
            "Train Epoch: 3 [39040/60000]\tLoss: 0.178392\n",
            "Train Epoch: 3 [39680/60000]\tLoss: 0.173645\n",
            "Train Epoch: 3 [40320/60000]\tLoss: 0.033972\n",
            "Train Epoch: 3 [40960/60000]\tLoss: 0.170061\n",
            "Train Epoch: 3 [41600/60000]\tLoss: 0.135691\n",
            "Train Epoch: 3 [42240/60000]\tLoss: 0.136712\n",
            "Train Epoch: 3 [42880/60000]\tLoss: 0.155075\n",
            "Train Epoch: 3 [43520/60000]\tLoss: 0.055498\n",
            "Train Epoch: 3 [44160/60000]\tLoss: 0.064864\n",
            "Train Epoch: 3 [44800/60000]\tLoss: 0.182072\n",
            "Train Epoch: 3 [45440/60000]\tLoss: 0.189649\n",
            "Train Epoch: 3 [46080/60000]\tLoss: 0.070166\n",
            "Train Epoch: 3 [46720/60000]\tLoss: 0.177004\n",
            "Train Epoch: 3 [47360/60000]\tLoss: 0.076854\n",
            "Train Epoch: 3 [48000/60000]\tLoss: 0.106059\n",
            "Train Epoch: 3 [48640/60000]\tLoss: 0.040651\n",
            "Train Epoch: 3 [49280/60000]\tLoss: 0.015409\n",
            "Train Epoch: 3 [49920/60000]\tLoss: 0.175916\n",
            "Train Epoch: 3 [50560/60000]\tLoss: 0.112114\n",
            "Train Epoch: 3 [51200/60000]\tLoss: 0.378423\n",
            "Train Epoch: 3 [51840/60000]\tLoss: 0.355690\n",
            "Train Epoch: 3 [52480/60000]\tLoss: 0.393717\n",
            "Train Epoch: 3 [53120/60000]\tLoss: 0.045343\n",
            "Train Epoch: 3 [53760/60000]\tLoss: 0.111116\n",
            "Train Epoch: 3 [54400/60000]\tLoss: 0.067863\n",
            "Train Epoch: 3 [55040/60000]\tLoss: 0.050001\n",
            "Train Epoch: 3 [55680/60000]\tLoss: 0.127109\n",
            "Train Epoch: 3 [56320/60000]\tLoss: 0.017482\n",
            "Train Epoch: 3 [56960/60000]\tLoss: 0.092258\n",
            "Train Epoch: 3 [57600/60000]\tLoss: 0.056512\n",
            "Train Epoch: 3 [58240/60000]\tLoss: 0.103109\n",
            "Train Epoch: 3 [58880/60000]\tLoss: 0.099062\n",
            "Train Epoch: 3 [59520/60000]\tLoss: 0.132839\n",
            "\n",
            "Test set: Avg. loss: 0.0671, Accuracy: 9790/10000 (98%)\n",
            "\n"
          ]
        }
      ]
    },
    {
      "cell_type": "code",
      "source": [
        "# Run network on data we got before and show predictions\n",
        "output = model(example_data)\n",
        "\n",
        "fig = plt.figure()\n",
        "for i in range(10):\n",
        "  plt.subplot(5,5,i+1)\n",
        "  plt.tight_layout()\n",
        "  plt.imshow(example_data[i][0], cmap='gray', interpolation='none')\n",
        "  plt.title(\"Prediction: {}\".format(\n",
        "    output.data.max(1, keepdim=True)[1][i].item()))\n",
        "  plt.xticks([])\n",
        "  plt.yticks([])\n",
        "plt.show()"
      ],
      "metadata": {
        "id": "o7fRUAy9Se1B",
        "colab": {
          "base_uri": "https://localhost:8080/",
          "height": 262
        },
        "outputId": "fc5f6744-bce6-4209-9206-3b14509f7573"
      },
      "execution_count": 18,
      "outputs": [
        {
          "output_type": "stream",
          "name": "stderr",
          "text": [
            "/tmp/ipython-input-728465458.py:40: UserWarning: Implicit dimension choice for log_softmax has been deprecated. Change the call to include dim=X as an argument.\n",
            "  x = F.log_softmax(x)\n"
          ]
        },
        {
          "output_type": "display_data",
          "data": {
            "text/plain": [
              "<Figure size 640x480 with 10 Axes>"
            ],
            "image/png": "[encoded data removed]"
          },
          "metadata": {}
        }
      ]
    }
  ]
}